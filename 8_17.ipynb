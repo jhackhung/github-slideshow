{
  "nbformat": 4,
  "nbformat_minor": 0,
  "metadata": {
    "colab": {
      "name": "8/17",
      "provenance": [],
      "authorship_tag": "ABX9TyMxCUkYsChqKKXbbwvFeXjU",
      "include_colab_link": true
    },
    "kernelspec": {
      "name": "python3",
      "display_name": "Python 3"
    },
    "language_info": {
      "name": "python"
    }
  },
  "cells": [
    {
      "cell_type": "markdown",
      "metadata": {
        "id": "view-in-github",
        "colab_type": "text"
      },
      "source": [
        "<a href=\"https://colab.research.google.com/github/jhackhung/github-slideshow/blob/master/8_17.ipynb\" target=\"_parent\"><img src=\"https://colab.research.google.com/assets/colab-badge.svg\" alt=\"Open In Colab\"/></a>"
      ]
    },
    {
      "cell_type": "code",
      "metadata": {
        "colab": {
          "base_uri": "https://localhost:8080/"
        },
        "id": "7mhU3UG16HwK",
        "outputId": "1b07098b-ab26-4416-8c3d-181d04b7431c"
      },
      "source": [
        "from google.colab import drive\n",
        "drive.mount('/content/drive')"
      ],
      "execution_count": null,
      "outputs": [
        {
          "output_type": "stream",
          "text": [
            "Mounted at /content/drive\n"
          ],
          "name": "stdout"
        }
      ]
    },
    {
      "cell_type": "markdown",
      "metadata": {
        "id": "_5KmoFcuHK06"
      },
      "source": [
        "# 基礎爬蟲"
      ]
    },
    {
      "cell_type": "code",
      "metadata": {
        "colab": {
          "base_uri": "https://localhost:8080/"
        },
        "id": "JkZuhzcdEOby",
        "outputId": "7a342027-4440-4060-de1f-e25bfc157bcb"
      },
      "source": [
        "import requests as req\n",
        "url = \"http://ehappy.tw/bsdemo1.htm\"\n",
        "\n",
        "html = req.get(url)\n",
        "\n",
        "html.encoding = \"utf-8\"\n",
        "print(html.text)"
      ],
      "execution_count": null,
      "outputs": [
        {
          "output_type": "stream",
          "text": [
            "﻿<!doctype html>\r\n",
            "<html lang=\"zh\">\r\n",
            "  <head>\r\n",
            "    <meta charset=\"UTF-8\">\r\n",
            "    <title>我是網頁標題</title>\r\n",
            "  </head>\r\n",
            "  <body>\r\n",
            "    <h1 class=\"large\">我是標題</h1>\r\n",
            "    <div>\r\n",
            "      <p>我是段落</p>\r\n",
            "      <img src=\"https://www.w3.org/html/logo/downloads/HTML5_Logo_256.png\" alt=\"我是圖片\">\r\n",
            "      <a href=\"http://www.e-happy.com.tw\">我是超連結</a>\r\n",
            "    </div>\r\n",
            "  </body>\r\n",
            "</html>\n"
          ],
          "name": "stdout"
        }
      ]
    },
    {
      "cell_type": "code",
      "metadata": {
        "colab": {
          "base_uri": "https://localhost:8080/"
        },
        "id": "VhnM-ebAKWvl",
        "outputId": "499ed17f-f823-4b33-9820-3f3c1a318250"
      },
      "source": [
        "from bs4 import BeautifulSoup\n",
        "\n",
        "sp = BeautifulSoup(html.text, 'html.parser')\n",
        "\n",
        "#print(sp.a.text)\n",
        "#print(sp.body.div.a.text)"
      ],
      "execution_count": 64,
      "outputs": [
        {
          "output_type": "stream",
          "text": [
            "我是超連結\n",
            "我是超連結\n"
          ],
          "name": "stdout"
        }
      ]
    },
    {
      "cell_type": "markdown",
      "metadata": {
        "id": "GWASWjoMNaEa"
      },
      "source": [
        "取得標籤屬性"
      ]
    },
    {
      "cell_type": "code",
      "metadata": {
        "colab": {
          "base_uri": "https://localhost:8080/",
          "height": 35
        },
        "id": "9a8aXgJXNBab",
        "outputId": "07a9ced9-5aee-4e9f-cc6a-83ad40457e9b"
      },
      "source": [
        "#sp.a.get('href')   #a裡的href\n",
        "#sp.a['href']\n",
        "\n",
        "#sp.img.get('src')  #img裡的src \n",
        "sp.img['src']"
      ],
      "execution_count": 73,
      "outputs": [
        {
          "output_type": "execute_result",
          "data": {
            "application/vnd.google.colaboratory.intrinsic+json": {
              "type": "string"
            },
            "text/plain": [
              "'https://www.w3.org/html/logo/downloads/HTML5_Logo_256.png'"
            ]
          },
          "metadata": {
            "tags": []
          },
          "execution_count": 73
        }
      ]
    },
    {
      "cell_type": "markdown",
      "metadata": {
        "id": "XCtVZkEROtxN"
      },
      "source": [
        "發出原始資料"
      ]
    },
    {
      "cell_type": "code",
      "metadata": {
        "colab": {
          "base_uri": "https://localhost:8080/"
        },
        "id": "DUOTscfwOrq0",
        "outputId": "32880988-4755-4020-f072-baee48c24ecf"
      },
      "source": [
        "url = \"http://ehappy.tw/bsdemo2.htm\"\n",
        "html = requests.get(url)\n",
        "\n",
        "html.encoding = 'utf-8'\n",
        "print(html.text)"
      ],
      "execution_count": 77,
      "outputs": [
        {
          "output_type": "stream",
          "text": [
            "﻿<!doctype html>\r\n",
            "<html>\r\n",
            "  <head>\r\n",
            "    <meta charset=\"UTF-8\">\r\n",
            "    <title>我是網頁標題</title>\r\n",
            "  </head>\r\n",
            "  <body>\r\n",
            "    <h1 class=\"large\">我是標題</h1>\r\n",
            "    <div>\r\n",
            "      <p id=\"p1\" class=\"large\">我是段落一</p>\r\n",
            "      <p id=\"p2\" style=\"font-size:16pt\">我是段落二</p>\r\n",
            "      <img src=\"https://www.w3.org/html/logo/downloads/HTML5_Logo_256.png\" alt=\"HTML5 logo\">\r\n",
            "      <ul>\r\n",
            "        <li class=\"odd\"><a href=\"http://www.ehappy.tw\">我是超連結1</a></li>\r\n",
            "        <li class=\"even\"><a href=\"http://www.e-happy.com.tw\">我是超連結2</a></li>\r\n",
            "      </ul>\r\n",
            "    </div>\r\n",
            "  </body>\r\n",
            "</html>\n"
          ],
          "name": "stdout"
        }
      ]
    },
    {
      "cell_type": "code",
      "metadata": {
        "colab": {
          "base_uri": "https://localhost:8080/"
        },
        "id": "SOLjtFu6PPZj",
        "outputId": "a0ffecf6-40fa-4687-ad31-13ed1bccc3ad"
      },
      "source": [
        "sp = BeautifulSoup(html.text, 'html.parser')\n",
        "#sp.find('p', id='p2').text\n",
        "#sp.find('p', id='p1').text\n",
        "#sp.find('li', class_='even').a.text\n",
        "\n",
        "#datas = sp.find_all('p')\n",
        "#for data in datas:\n",
        "#    print(data.text)\n",
        "\n",
        "datas = sp.find_all('a')\n",
        "for data in datas:\n",
        "    print(data.get('href'))"
      ],
      "execution_count": 94,
      "outputs": [
        {
          "output_type": "stream",
          "text": [
            "[<a href=\"http://www.ehappy.tw\">我是超連結1</a>, <a href=\"http://www.e-happy.com.tw\">我是超連結2</a>]\n",
            "http://www.ehappy.tw\n",
            "http://www.e-happy.com.tw\n"
          ],
          "name": "stdout"
        }
      ]
    },
    {
      "cell_type": "markdown",
      "metadata": {
        "id": "o7_DbGCcnrjm"
      },
      "source": [
        "#專戰 : PTT美食版爬蟲"
      ]
    },
    {
      "cell_type": "code",
      "metadata": {
        "id": "H-M5pRCGqiyc"
      },
      "source": [
        "import requests as req\n",
        "from bs4 import BeautifulSoup"
      ],
      "execution_count": null,
      "outputs": []
    },
    {
      "cell_type": "code",
      "metadata": {
        "id": "4Lxcp0Oonyqc"
      },
      "source": [
        "f_url = 'https://www.ptt.cc/bbs/Food/index.html'\n",
        "html = req.get(f_url)\n"
      ],
      "execution_count": null,
      "outputs": []
    },
    {
      "cell_type": "code",
      "metadata": {
        "id": "x3QeRpW-qwQb"
      },
      "source": [
        "sp = BeautifulSoup(html.text, 'html.parser')\n",
        "\n",
        "datas = sp.find_all('div', class_='r-ent')\n",
        "for data in datas:\n",
        "    print(data.find('div', class_='date').text, end=' ')\n",
        "    print(data.find('div', class_='author').text, end=' ')\n",
        "    print(\"https://www.ptt.cc/\"+data.a.get('href'),data.a.text)\n"
      ],
      "execution_count": null,
      "outputs": []
    },
    {
      "cell_type": "code",
      "metadata": {
        "colab": {
          "base_uri": "https://localhost:8080/"
        },
        "id": "WQ7z0MuvvFSc",
        "outputId": "349722e5-27b1-423a-bac7-a8c42ee465c3"
      },
      "source": [
        "#爬5頁\n",
        "import requests as req\n",
        "from bs4 import BeautifulSoup\n",
        "\n",
        "for n in range(5):\n",
        "    i = 7002-n\n",
        "    i = str(i)\n",
        "    f_url='https://www.ptt.cc/bbs/Food/index'+i+'.html'\n",
        "    html = req.get(f_url)\n",
        "    sp = BeautifulSoup(html.text, 'html.parser')\n",
        "    datas = sp.find_all('div', class_='r-ent')\n",
        "    for data in datas:\n",
        "        print(data.find('div', class_='date').text, end=' ')\n",
        "        print(data.find('div', class_='author').text, end=' ')\n",
        "        print(\"https://www.ptt.cc/\"+data.a.get('href'),data.a.text)\n",
        "    #url = sp.find_all(\"a\", class='btn wide')[n].get('href')\n",
        "#上頁連結\n",
        "#sp.find_all(\"a\", class='btn wide')[1].get('href') "
      ],
      "execution_count": 124,
      "outputs": [
        {
          "output_type": "stream",
          "text": [
            " 8/16 fish1234557 https://www.ptt.cc//bbs/Food/M.1629110767.A.310.html [食記] 高雄 壽司郎中正店 迴轉壽司自取外帶回家\n",
            " 8/16 qushie https://www.ptt.cc//bbs/Food/M.1629111245.A.AC0.html [請益] 山海樓的外帶套餐建議\n",
            " 8/16 linche https://www.ptt.cc//bbs/Food/M.1629116850.A.4B8.html [食記] 高雄 新興 17號西班牙餐酒館\n",
            " 8/16 redleeve https://www.ptt.cc//bbs/Food/M.1629119902.A.0F2.html [食記]永和樂澄小店牛肉麵專門店\n",
            " 8/16 thudadai https://www.ptt.cc//bbs/Food/M.1629120457.A.FC2.html [食記] 新店 黑角\n",
            " 8/16 liufrank21 https://www.ptt.cc//bbs/Food/M.1629123048.A.0EC.html [食記] [台北][中山] 家鴻燒鵝/排隊30分鐘也要吃\n",
            " 8/17 fatlee https://www.ptt.cc//bbs/Food/M.1629129744.A.8B2.html [食記] 基隆市信義區-瑞英生煎包鍋貼\n",
            " 8/17 blackmamba01 https://www.ptt.cc//bbs/Food/M.1629133187.A.328.html [食記] 個人認為史上最雷高評價店-桃園村民食堂\n",
            " 8/17 JimXpp https://www.ptt.cc//bbs/Food/M.1629133983.A.6E5.html [食記] 台北 公館 曉鹿鳴樓上海菜\n",
            " 8/17 ahsiao https://www.ptt.cc//bbs/Food/M.1629142573.A.31B.html [廣宣] 苗栗後龍 堅果爸爸 低溫烘焙堅果\n",
            " 8/17 Remain1996 https://www.ptt.cc//bbs/Food/M.1629149436.A.FBD.html [請益] 想找吃起來味道及口感和山岡家類似的拉\n",
            " 8/17 hibabino https://www.ptt.cc//bbs/Food/M.1629159751.A.534.html [食記] 嘉義 東門圓環旁 東門小卷麵線\n",
            " 8/17 larle https://www.ptt.cc//bbs/Food/M.1629160601.A.148.html [食記] 桃園中壢區。斜坡粉漿蛋餅\n",
            " 8/17 ey60055 https://www.ptt.cc//bbs/Food/M.1629169314.A.E0D.html [食記] 台北中山 柒串燒\n",
            " 8/17 Furella https://www.ptt.cc//bbs/Food/M.1629177879.A.D04.html [食記] 基隆 第34夜 隱藏在巷弄 鮮美噴香海鮮義大利麵\n",
            " 8/17 mker https://www.ptt.cc//bbs/Food/M.1629179081.A.954.html [食記] 新北樹林 鑫記碳烤肉餅\n",
            "12/16 Dilbert https://www.ptt.cc//bbs/Food/M.1355673582.A.5F7.html [公告] Food板 板規 V3.91\n",
            " 9/28 bluefish https://www.ptt.cc//bbs/Food/M.1190944426.A.E6C.html [公告] 發文請在標題加上地區及提供地址電話。^^\n",
            "10/01 Dilbert https://www.ptt.cc//bbs/Food/M.1128132666.A.0FD.html [公告] 文章被刪除者請洽精華區的資源回收桶\n",
            " 6/04 Dilbert https://www.ptt.cc//bbs/Food/M.1496532469.A.C36.html [公告] 新增板規22：發文禁附延伸閱讀連結\n",
            " 8/15 liufrank21 https://www.ptt.cc//bbs/Food/M.1629011254.A.9DE.html [食記] [新北][板橋] 肉多多/肉超多高CP外帶防疫\n",
            " 8/15 Joy612 https://www.ptt.cc//bbs/Food/M.1629011341.A.D94.html [食記] 台北大安 Waiting Bistro餐酒館\n",
            " 8/15 AlphaD https://www.ptt.cc//bbs/Food/M.1629022507.A.2F0.html [食記] 台北中山 晶華軒 晶華酒店 西施泡飯 沒有烤鴨 高檔套餐\n",
            " 8/15 JimXpp https://www.ptt.cc//bbs/Food/M.1629023182.A.051.html [食記] 台北 善導寺 東北之家酸菜白肉鍋      \n",
            " 8/15 Sherlock56 https://www.ptt.cc//bbs/Food/M.1629029411.A.336.html [食記] 北海道 友善的熊 單純原味的鐵板燒\n",
            " 8/15 cvoa1026 https://www.ptt.cc//bbs/Food/M.1629033017.A.065.html [食記] 台東關山臭豆腐-隱藏市場的排隊名店\n",
            " 8/15 kamgx58 https://www.ptt.cc//bbs/Food/M.1629035035.A.B5F.html [食記] 高雄 串吧酒食居 外帶9折 玉子燒 花生吐司\n",
            " 8/15 liufrank21 https://www.ptt.cc//bbs/Food/M.1629035629.A.FBF.html [食記] [新竹][竹北] 大廟厚切牛排/超美味厚切牛\n",
            " 8/15 thudadai https://www.ptt.cc//bbs/Food/M.1629036427.A.09C.html [食記] 新店 鮨心匠\n",
            " 8/15 nikcoke https://www.ptt.cc//bbs/Food/M.1629036456.A.F8E.html [食記] 新北 拿坡里披薩 MINI披薩搭兩塊炸雞飲料\n",
            " 8/15 TW00500203 https://www.ptt.cc//bbs/Food/M.1629042525.A.1C5.html [食記] 台北南港五分埔 鄉味蚵仔炸(古早味蚵嗲\n",
            " 8/16 bluelqe https://www.ptt.cc//bbs/Food/M.1629050091.A.0B1.html [食記] 台中 超級Super 古巴三明治：有點乾柴\n",
            " 8/16 eubrooke https://www.ptt.cc//bbs/Food/M.1629074576.A.175.html [食記] 七夕大餐｜頭份。柒石柒石頭鍋專賣店\n",
            " 8/16 dressingfrad https://www.ptt.cc//bbs/Food/M.1629078067.A.E7C.html [食記] 西門町 千葉火鍋 熟食壽司吃到飽\n",
            " 8/16 hibabino https://www.ptt.cc//bbs/Food/M.1629078905.A.524.html [食記] 嘉義 文化路早餐，吉丸飯糰小巴混蛋飯糰\n",
            " 8/16 HIKARU5 https://www.ptt.cc//bbs/Food/M.1629087057.A.3A9.html [食記] 台北大安 這間咖啡：深夜咖啡 不限時\n",
            " 8/16 smallta https://www.ptt.cc//bbs/Food/M.1629091643.A.669.html [食記] 台北 萬華 冰雪蔬蔬\n",
            " 8/16 earth875 https://www.ptt.cc//bbs/Food/M.1629092248.A.111.html [食記] 台北 松山 Cantine Marais 瑪黑餐酒 (外送外帶)\n",
            " 8/16 shangyikuo https://www.ptt.cc//bbs/Food/M.1629098161.A.52C.html [食記] 宜蘭蘇澳 無名蝦餅蚵嗲蘿蔔糕\n",
            " 8/16 Sherlock56 https://www.ptt.cc//bbs/Food/M.1629100085.A.38A.html [食記] 東京 迴轉壽司トリトン 緣側的多變呈現\n",
            " 8/13 hellolego https://www.ptt.cc//bbs/Food/M.1628859698.A.224.html [食記] 宜蘭礁溪咖啡廳-【瑪德琳咖啡】\n",
            " 8/13 hellolego https://www.ptt.cc//bbs/Food/M.1628859841.A.03D.html [食記] 台南中西早餐吃到飽-康橋商旅(赤崁樓館)\n",
            " 8/13 jay70134 https://www.ptt.cc//bbs/Food/M.1628860229.A.A71.html [食記] 台中 羅家古早味 2021米其林必比登推薦\n",
            " 8/14 IkarusWillie https://www.ptt.cc//bbs/Food/M.1628871711.A.2F3.html [食記] 臺北大安 馬辣火鍋外帶\n",
            " 8/14 f77142002 https://www.ptt.cc//bbs/Food/M.1628906509.A.186.html [食記] 台北。台式便當-好記擔仔麵~擔仔麵$40\n",
            " 8/14 shangyikuo https://www.ptt.cc//bbs/Food/M.1628909807.A.AAB.html [食記] 花蓮豐濱 伊娜飛魚餐廳\n",
            " 8/14 chickenbo https://www.ptt.cc//bbs/Food/M.1628911260.A.435.html [食記] 台南北區 豬頭妹韓式燒肉吃到飽 平日299\n",
            " 8/14 larle https://www.ptt.cc//bbs/Food/M.1628911286.A.DD0.html [食記] 桃園中壢區。川妹子酸辣粉\n",
            " 8/14 AlphaD https://www.ptt.cc//bbs/Food/M.1628919577.A.BF5.html [問卷] 2021 台北/台中 米其林 必比登 體驗調查 問卷調查\n",
            " 8/14 triccsegg https://www.ptt.cc//bbs/Food/M.1628926954.A.903.html [食記] 台北松山區 1010湘復北店-合菜\n",
            " 8/14 Roa https://www.ptt.cc//bbs/Food/M.1628931806.A.DB8.html [食記] 台北東區 居酒屋餐廳 山男YAMASAN\n",
            " 8/14 kamgx58 https://www.ptt.cc//bbs/Food/M.1628943587.A.C1D.html [食記] 高雄 新志割烹 價格偏高的外帶散壽司\n",
            " 8/14 fatlee https://www.ptt.cc//bbs/Food/M.1628947503.A.EE3.html [食記] 基隆市仁愛區-仁愛市場大腸圈\n",
            " 8/14 thudadai https://www.ptt.cc//bbs/Food/M.1628949214.A.718.html [食記] 新店 賴岡山羊肉\n",
            " 8/15 larle https://www.ptt.cc//bbs/Food/M.1628995215.A.9C0.html [食記] 桃園中壢區。府城担仔麵\n",
            " 8/15 lili890827 https://www.ptt.cc//bbs/Food/M.1628996901.A.8F7.html [討論] （內有抽獎！）雙方交易關係之信任、承諾\n",
            " 8/15 triccsegg https://www.ptt.cc//bbs/Food/M.1628999672.A.3A6.html [食記] 台北中正區 羅媽媽米粉湯-東門市場米粉湯\n",
            " 8/15 chain1103 https://www.ptt.cc//bbs/Food/M.1629004507.A.94F.html [食記] 嘉義 常圓簡餐(原「先家簡餐」)\n",
            " 8/15 hibabino https://www.ptt.cc//bbs/Food/M.1629008101.A.C70.html [食記] 嘉義 吐司男，韓系早午餐\n",
            " 8/15 wimd https://www.ptt.cc//bbs/Food/M.1629010580.A.833.html [食記] 台北松江南京站 食彩櫻日式料理-好吃炸雞\n"
          ],
          "name": "stdout"
        }
      ]
    },
    {
      "cell_type": "code",
      "metadata": {
        "colab": {
          "base_uri": "https://localhost:8080/"
        },
        "id": "2wiuPBSW0fiV",
        "outputId": "d6d570bf-8655-4e73-ffc7-79ce11e2e775"
      },
      "source": [
        "import requests as req\n",
        "from bs4 import BeautifulSoup\n",
        "\n",
        "f_url='https://www.ptt.cc/bbs/Gossiping/index.html'\n",
        "\n",
        "#設定cookie\n",
        "cookie = {'cookie':\"over18=1\"}\n",
        "\n",
        "html = req.get(f_url, headers = cookie)\n",
        "sp = BeautifulSoup(html.text, 'html.parser')\n",
        "datas = sp.find_all('div', class_='r-ent')\n",
        "for data in datas:\n",
        "    print(data.find('div', class_='date').text, end=' ')\n",
        "    print(data.find('div', class_='author').text, end=' ')\n",
        "    print(\"https://www.ptt.cc/\"+data.a.get('href'),data.a.text) "
      ],
      "execution_count": 131,
      "outputs": [
        {
          "output_type": "stream",
          "text": [
            " 8/17 TaraSoYeon https://www.ptt.cc//bbs/Gossiping/M.1629182452.A.44E.html [問卦] 便當的三樣菜選什麼最虧？\n",
            " 8/17 kevin86tp https://www.ptt.cc//bbs/Gossiping/M.1629182478.A.A56.html [問卦] 女權會組織軍隊拯救阿富汗嗎？\n",
            " 8/17 DavidJam https://www.ptt.cc//bbs/Gossiping/M.1629182538.A.685.html [問卦] 如果法律消失，那你會想做什麼？\n",
            " 8/17 BleedWang https://www.ptt.cc//bbs/Gossiping/M.1629182540.A.578.html Re: [問卦] 12猛漢最後一段說的是不是對極了\n",
            " 8/17 keane9112 https://www.ptt.cc//bbs/Gossiping/M.1629182573.A.E94.html [問卦] 支語警察與支語信徒現在風向在誰那？\n",
            " 8/17 fur https://www.ptt.cc//bbs/Gossiping/M.1629182712.A.F0D.html [新聞] 「感謝大家說要還我公道！」馬英九：紓困\n",
            " 8/17 ndhuctc https://www.ptt.cc//bbs/Gossiping/M.1629182732.A.189.html [問卦] 什麼人可以打到兩劑輝瑞？\n",
            " 8/17 bebehome https://www.ptt.cc//bbs/Gossiping/M.1629182743.A.1FD.html Re: [新聞] 塔利班無法無天！擬定12至45歲「性奴隸清\n",
            " 8/17 rodneytw https://www.ptt.cc//bbs/Gossiping/M.1629182770.A.DD8.html [問卦] 慟！發現白色的X毛怎麼辦？\n",
            " 8/17 tetani https://www.ptt.cc//bbs/Gossiping/M.1629182776.A.755.html Re: [新聞] 高端首日結單！30.2萬人搶預約　現貨61.4\n",
            " 8/17 poeta https://www.ptt.cc//bbs/Gossiping/M.1629182823.A.3FC.html [問卦] 阿富汗總統如果有錦囊 上面會寫什麼\n",
            " 8/17 elmotze https://www.ptt.cc//bbs/Gossiping/M.1629182855.A.D07.html Re: [新聞] 拜登辯護撤軍決定：阿富汗軍不肯戰 不該\n",
            " 5/11 arsonlolita https://www.ptt.cc//bbs/Gossiping/M.1620716589.A.F0C.html [公告] 八卦板板規(2021.05.11)\n",
            " 8/12 jqqlas https://www.ptt.cc//bbs/Gossiping/M.1628741625.A.1B9.html [協尋] 8/10(二)16:25新莊新五路與新北大道交叉路口\n",
            " 8/16 bom10306 https://www.ptt.cc//bbs/Gossiping/M.1629077034.A.5A9.html [協尋] 8/5興隆路四段與木柵路二段路口監視器\n",
            " 8/16 winteryoyo https://www.ptt.cc//bbs/Gossiping/M.1629128344.A.FC9.html [協尋] 8/16 行車記錄器 五權西路&工業22路 時間\n",
            " 8/17 iwaizumily https://www.ptt.cc//bbs/Gossiping/M.1629169099.A.BAB.html [協尋] 桃園市4歲黑貓走失\n"
          ],
          "name": "stdout"
        }
      ]
    }
  ]
}