{
  "nbformat": 4,
  "nbformat_minor": 0,
  "metadata": {
    "colab": {
      "name": "網路爬蟲",
      "provenance": [],
      "authorship_tag": "ABX9TyOPn9DF9QsY6WHCbu+yFjt1",
      "include_colab_link": true
    },
    "kernelspec": {
      "name": "python3",
      "display_name": "Python 3"
    },
    "language_info": {
      "name": "python"
    }
  },
  "cells": [
    {
      "cell_type": "markdown",
      "metadata": {
        "id": "view-in-github",
        "colab_type": "text"
      },
      "source": [
        "<a href=\"https://colab.research.google.com/github/jhackhung/github-slideshow/blob/master/%E7%B6%B2%E8%B7%AF%E7%88%AC%E8%9F%B2.ipynb\" target=\"_parent\"><img src=\"https://colab.research.google.com/assets/colab-badge.svg\" alt=\"Open In Colab\"/></a>"
      ]
    },
    {
      "cell_type": "code",
      "metadata": {
        "colab": {
          "base_uri": "https://localhost:8080/"
        },
        "id": "7mhU3UG16HwK",
        "outputId": "1b07098b-ab26-4416-8c3d-181d04b7431c"
      },
      "source": [
        "from google.colab import drive\n",
        "drive.mount('/content/drive')"
      ],
      "execution_count": null,
      "outputs": [
        {
          "output_type": "stream",
          "text": [
            "Mounted at /content/drive\n"
          ],
          "name": "stdout"
        }
      ]
    },
    {
      "cell_type": "markdown",
      "metadata": {
        "id": "_5KmoFcuHK06"
      },
      "source": [
        "# 基礎爬蟲"
      ]
    },
    {
      "cell_type": "code",
      "metadata": {
        "colab": {
          "base_uri": "https://localhost:8080/"
        },
        "id": "JkZuhzcdEOby",
        "outputId": "7a342027-4440-4060-de1f-e25bfc157bcb"
      },
      "source": [
        "import requests as req\n",
        "url = \"http://ehappy.tw/bsdemo1.htm\"\n",
        "\n",
        "html = req.get(url)\n",
        "\n",
        "html.encoding = \"utf-8\"\n",
        "print(html.text)"
      ],
      "execution_count": null,
      "outputs": [
        {
          "output_type": "stream",
          "text": [
            "﻿<!doctype html>\r\n",
            "<html lang=\"zh\">\r\n",
            "  <head>\r\n",
            "    <meta charset=\"UTF-8\">\r\n",
            "    <title>我是網頁標題</title>\r\n",
            "  </head>\r\n",
            "  <body>\r\n",
            "    <h1 class=\"large\">我是標題</h1>\r\n",
            "    <div>\r\n",
            "      <p>我是段落</p>\r\n",
            "      <img src=\"https://www.w3.org/html/logo/downloads/HTML5_Logo_256.png\" alt=\"我是圖片\">\r\n",
            "      <a href=\"http://www.e-happy.com.tw\">我是超連結</a>\r\n",
            "    </div>\r\n",
            "  </body>\r\n",
            "</html>\n"
          ],
          "name": "stdout"
        }
      ]
    },
    {
      "cell_type": "code",
      "metadata": {
        "colab": {
          "base_uri": "https://localhost:8080/"
        },
        "id": "VhnM-ebAKWvl",
        "outputId": "499ed17f-f823-4b33-9820-3f3c1a318250"
      },
      "source": [
        "from bs4 import BeautifulSoup\n",
        "\n",
        "sp = BeautifulSoup(html.text, 'html.parser')\n",
        "\n",
        "#print(sp.a.text)\n",
        "#print(sp.body.div.a.text)"
      ],
      "execution_count": 64,
      "outputs": [
        {
          "output_type": "stream",
          "text": [
            "我是超連結\n",
            "我是超連結\n"
          ],
          "name": "stdout"
        }
      ]
    },
    {
      "cell_type": "markdown",
      "metadata": {
        "id": "GWASWjoMNaEa"
      },
      "source": [
        "取得標籤屬性"
      ]
    },
    {
      "cell_type": "code",
      "metadata": {
        "colab": {
          "base_uri": "https://localhost:8080/",
          "height": 35
        },
        "id": "9a8aXgJXNBab",
        "outputId": "07a9ced9-5aee-4e9f-cc6a-83ad40457e9b"
      },
      "source": [
        "#sp.a.get('href')   #a裡的href\n",
        "#sp.a['href']\n",
        "\n",
        "#sp.img.get('src')  #img裡的src \n",
        "sp.img['src']"
      ],
      "execution_count": 73,
      "outputs": [
        {
          "output_type": "execute_result",
          "data": {
            "application/vnd.google.colaboratory.intrinsic+json": {
              "type": "string"
            },
            "text/plain": [
              "'https://www.w3.org/html/logo/downloads/HTML5_Logo_256.png'"
            ]
          },
          "metadata": {
            "tags": []
          },
          "execution_count": 73
        }
      ]
    },
    {
      "cell_type": "markdown",
      "metadata": {
        "id": "XCtVZkEROtxN"
      },
      "source": [
        "發出原始資料"
      ]
    },
    {
      "cell_type": "code",
      "metadata": {
        "colab": {
          "base_uri": "https://localhost:8080/"
        },
        "id": "DUOTscfwOrq0",
        "outputId": "32880988-4755-4020-f072-baee48c24ecf"
      },
      "source": [
        "url = \"http://ehappy.tw/bsdemo2.htm\"\n",
        "html = requests.get(url)\n",
        "\n",
        "html.encoding = 'utf-8'\n",
        "print(html.text)"
      ],
      "execution_count": 77,
      "outputs": [
        {
          "output_type": "stream",
          "text": [
            "﻿<!doctype html>\r\n",
            "<html>\r\n",
            "  <head>\r\n",
            "    <meta charset=\"UTF-8\">\r\n",
            "    <title>我是網頁標題</title>\r\n",
            "  </head>\r\n",
            "  <body>\r\n",
            "    <h1 class=\"large\">我是標題</h1>\r\n",
            "    <div>\r\n",
            "      <p id=\"p1\" class=\"large\">我是段落一</p>\r\n",
            "      <p id=\"p2\" style=\"font-size:16pt\">我是段落二</p>\r\n",
            "      <img src=\"https://www.w3.org/html/logo/downloads/HTML5_Logo_256.png\" alt=\"HTML5 logo\">\r\n",
            "      <ul>\r\n",
            "        <li class=\"odd\"><a href=\"http://www.ehappy.tw\">我是超連結1</a></li>\r\n",
            "        <li class=\"even\"><a href=\"http://www.e-happy.com.tw\">我是超連結2</a></li>\r\n",
            "      </ul>\r\n",
            "    </div>\r\n",
            "  </body>\r\n",
            "</html>\n"
          ],
          "name": "stdout"
        }
      ]
    },
    {
      "cell_type": "code",
      "metadata": {
        "colab": {
          "base_uri": "https://localhost:8080/"
        },
        "id": "SOLjtFu6PPZj",
        "outputId": "a0ffecf6-40fa-4687-ad31-13ed1bccc3ad"
      },
      "source": [
        "sp = BeautifulSoup(html.text, 'html.parser')\n",
        "#sp.find('p', id='p2').text\n",
        "#sp.find('p', id='p1').text\n",
        "#sp.find('li', class_='even').a.text\n",
        "\n",
        "#datas = sp.find_all('p')\n",
        "#for data in datas:\n",
        "#    print(data.text)\n",
        "\n",
        "datas = sp.find_all('a')\n",
        "for data in datas:\n",
        "    print(data.get('href'))"
      ],
      "execution_count": 94,
      "outputs": [
        {
          "output_type": "stream",
          "text": [
            "[<a href=\"http://www.ehappy.tw\">我是超連結1</a>, <a href=\"http://www.e-happy.com.tw\">我是超連結2</a>]\n",
            "http://www.ehappy.tw\n",
            "http://www.e-happy.com.tw\n"
          ],
          "name": "stdout"
        }
      ]
    },
    {
      "cell_type": "markdown",
      "metadata": {
        "id": "o7_DbGCcnrjm"
      },
      "source": [
        "#專戰 : PTT美食版爬蟲"
      ]
    },
    {
      "cell_type": "code",
      "metadata": {
        "id": "H-M5pRCGqiyc"
      },
      "source": [
        "import requests as req\n",
        "from bs4 import BeautifulSoup"
      ],
      "execution_count": null,
      "outputs": []
    },
    {
      "cell_type": "code",
      "metadata": {
        "id": "4Lxcp0Oonyqc"
      },
      "source": [
        "f_url = 'https://www.ptt.cc/bbs/Food/index.html'\n",
        "html = req.get(f_url)\n"
      ],
      "execution_count": null,
      "outputs": []
    },
    {
      "cell_type": "code",
      "metadata": {
        "id": "x3QeRpW-qwQb"
      },
      "source": [
        "sp = BeautifulSoup(html.text, 'html.parser')\n",
        "\n",
        "datas = sp.find_all('div', class_='r-ent')\n",
        "for data in datas:\n",
        "    print(data.find('div', class_='date').text, end=' ')\n",
        "    print(data.find('div', class_='author').text, end=' ')\n",
        "    print(\"https://www.ptt.cc/\"+data.a.get('href'),data.a.text)\n"
      ],
      "execution_count": null,
      "outputs": []
    },
    {
      "cell_type": "code",
      "metadata": {
        "colab": {
          "base_uri": "https://localhost:8080/"
        },
        "id": "WQ7z0MuvvFSc",
        "outputId": "349722e5-27b1-423a-bac7-a8c42ee465c3"
      },
      "source": [
        "#爬5頁\n",
        "import requests as req\n",
        "from bs4 import BeautifulSoup\n",
        "\n",
        "for n in range(5):\n",
        "    i = 7002-n\n",
        "    i = str(i)\n",
        "    f_url='https://www.ptt.cc/bbs/Food/index'+i+'.html'\n",
        "    html = req.get(f_url)\n",
        "    sp = BeautifulSoup(html.text, 'html.parser')\n",
        "    datas = sp.find_all('div', class_='r-ent')\n",
        "    for data in datas:\n",
        "        print(data.find('div', class_='date').text, end=' ')\n",
        "        print(data.find('div', class_='author').text, end=' ')\n",
        "        print(\"https://www.ptt.cc/\"+data.a.get('href'),data.a.text)\n",
        "    #url = sp.find_all(\"a\", class='btn wide')[n].get('href')\n",
        "#上頁連結\n",
        "#sp.find_all(\"a\", class='btn wide')[1].get('href') "
      ],
      "execution_count": 124,
      "outputs": [
        {
          "output_type": "stream",
          "text": [
            " 8/16 fish1234557 https://www.ptt.cc//bbs/Food/M.1629110767.A.310.html [食記] 高雄 壽司郎中正店 迴轉壽司自取外帶回家\n",
            " 8/16 qushie https://www.ptt.cc//bbs/Food/M.1629111245.A.AC0.html [請益] 山海樓的外帶套餐建議\n",
            " 8/16 linche https://www.ptt.cc//bbs/Food/M.1629116850.A.4B8.html [食記] 高雄 新興 17號西班牙餐酒館\n",
            " 8/16 redleeve https://www.ptt.cc//bbs/Food/M.1629119902.A.0F2.html [食記]永和樂澄小店牛肉麵專門店\n",
            " 8/16 thudadai https://www.ptt.cc//bbs/Food/M.1629120457.A.FC2.html [食記] 新店 黑角\n",
            " 8/16 liufrank21 https://www.ptt.cc//bbs/Food/M.1629123048.A.0EC.html [食記] [台北][中山] 家鴻燒鵝/排隊30分鐘也要吃\n",
            " 8/17 fatlee https://www.ptt.cc//bbs/Food/M.1629129744.A.8B2.html [食記] 基隆市信義區-瑞英生煎包鍋貼\n",
            " 8/17 blackmamba01 https://www.ptt.cc//bbs/Food/M.1629133187.A.328.html [食記] 個人認為史上最雷高評價店-桃園村民食堂\n",
            " 8/17 JimXpp https://www.ptt.cc//bbs/Food/M.1629133983.A.6E5.html [食記] 台北 公館 曉鹿鳴樓上海菜\n",
            " 8/17 ahsiao https://www.ptt.cc//bbs/Food/M.1629142573.A.31B.html [廣宣] 苗栗後龍 堅果爸爸 低溫烘焙堅果\n",
            " 8/17 Remain1996 https://www.ptt.cc//bbs/Food/M.1629149436.A.FBD.html [請益] 想找吃起來味道及口感和山岡家類似的拉\n",
            " 8/17 hibabino https://www.ptt.cc//bbs/Food/M.1629159751.A.534.html [食記] 嘉義 東門圓環旁 東門小卷麵線\n",
            " 8/17 larle https://www.ptt.cc//bbs/Food/M.1629160601.A.148.html [食記] 桃園中壢區。斜坡粉漿蛋餅\n",
            " 8/17 ey60055 https://www.ptt.cc//bbs/Food/M.1629169314.A.E0D.html [食記] 台北中山 柒串燒\n",
            " 8/17 Furella https://www.ptt.cc//bbs/Food/M.1629177879.A.D04.html [食記] 基隆 第34夜 隱藏在巷弄 鮮美噴香海鮮義大利麵\n",
            " 8/17 mker https://www.ptt.cc//bbs/Food/M.1629179081.A.954.html [食記] 新北樹林 鑫記碳烤肉餅\n",
            "12/16 Dilbert https://www.ptt.cc//bbs/Food/M.1355673582.A.5F7.html [公告] Food板 板規 V3.91\n",
            " 9/28 bluefish https://www.ptt.cc//bbs/Food/M.1190944426.A.E6C.html [公告] 發文請在標題加上地區及提供地址電話。^^\n",
            "10/01 Dilbert https://www.ptt.cc//bbs/Food/M.1128132666.A.0FD.html [公告] 文章被刪除者請洽精華區的資源回收桶\n",
            " 6/04 Dilbert https://www.ptt.cc//bbs/Food/M.1496532469.A.C36.html [公告] 新增板規22：發文禁附延伸閱讀連結\n",
            " 8/15 liufrank21 https://www.ptt.cc//bbs/Food/M.1629011254.A.9DE.html [食記] [新北][板橋] 肉多多/肉超多高CP外帶防疫\n",
            " 8/15 Joy612 https://www.ptt.cc//bbs/Food/M.1629011341.A.D94.html [食記] 台北大安 Waiting Bistro餐酒館\n",
            " 8/15 AlphaD https://www.ptt.cc//bbs/Food/M.1629022507.A.2F0.html [食記] 台北中山 晶華軒 晶華酒店 西施泡飯 沒有烤鴨 高檔套餐\n",
            " 8/15 JimXpp https://www.ptt.cc//bbs/Food/M.1629023182.A.051.html [食記] 台北 善導寺 東北之家酸菜白肉鍋      \n",
            " 8/15 Sherlock56 https://www.ptt.cc//bbs/Food/M.1629029411.A.336.html [食記] 北海道 友善的熊 單純原味的鐵板燒\n",
            " 8/15 cvoa1026 https://www.ptt.cc//bbs/Food/M.1629033017.A.065.html [食記] 台東關山臭豆腐-隱藏市場的排隊名店\n",
            " 8/15 kamgx58 https://www.ptt.cc//bbs/Food/M.1629035035.A.B5F.html [食記] 高雄 串吧酒食居 外帶9折 玉子燒 花生吐司\n",
            " 8/15 liufrank21 https://www.ptt.cc//bbs/Food/M.1629035629.A.FBF.html [食記] [新竹][竹北] 大廟厚切牛排/超美味厚切牛\n",
            " 8/15 thudadai https://www.ptt.cc//bbs/Food/M.1629036427.A.09C.html [食記] 新店 鮨心匠\n",
            " 8/15 nikcoke https://www.ptt.cc//bbs/Food/M.1629036456.A.F8E.html [食記] 新北 拿坡里披薩 MINI披薩搭兩塊炸雞飲料\n",
            " 8/15 TW00500203 https://www.ptt.cc//bbs/Food/M.1629042525.A.1C5.html [食記] 台北南港五分埔 鄉味蚵仔炸(古早味蚵嗲\n",
            " 8/16 bluelqe https://www.ptt.cc//bbs/Food/M.1629050091.A.0B1.html [食記] 台中 超級Super 古巴三明治：有點乾柴\n",
            " 8/16 eubrooke https://www.ptt.cc//bbs/Food/M.1629074576.A.175.html [食記] 七夕大餐｜頭份。柒石柒石頭鍋專賣店\n",
            " 8/16 dressingfrad https://www.ptt.cc//bbs/Food/M.1629078067.A.E7C.html [食記] 西門町 千葉火鍋 熟食壽司吃到飽\n",
            " 8/16 hibabino https://www.ptt.cc//bbs/Food/M.1629078905.A.524.html [食記] 嘉義 文化路早餐，吉丸飯糰小巴混蛋飯糰\n",
            " 8/16 HIKARU5 https://www.ptt.cc//bbs/Food/M.1629087057.A.3A9.html [食記] 台北大安 這間咖啡：深夜咖啡 不限時\n",
            " 8/16 smallta https://www.ptt.cc//bbs/Food/M.1629091643.A.669.html [食記] 台北 萬華 冰雪蔬蔬\n",
            " 8/16 earth875 https://www.ptt.cc//bbs/Food/M.1629092248.A.111.html [食記] 台北 松山 Cantine Marais 瑪黑餐酒 (外送外帶)\n",
            " 8/16 shangyikuo https://www.ptt.cc//bbs/Food/M.1629098161.A.52C.html [食記] 宜蘭蘇澳 無名蝦餅蚵嗲蘿蔔糕\n",
            " 8/16 Sherlock56 https://www.ptt.cc//bbs/Food/M.1629100085.A.38A.html [食記] 東京 迴轉壽司トリトン 緣側的多變呈現\n",
            " 8/13 hellolego https://www.ptt.cc//bbs/Food/M.1628859698.A.224.html [食記] 宜蘭礁溪咖啡廳-【瑪德琳咖啡】\n",
            " 8/13 hellolego https://www.ptt.cc//bbs/Food/M.1628859841.A.03D.html [食記] 台南中西早餐吃到飽-康橋商旅(赤崁樓館)\n",
            " 8/13 jay70134 https://www.ptt.cc//bbs/Food/M.1628860229.A.A71.html [食記] 台中 羅家古早味 2021米其林必比登推薦\n",
            " 8/14 IkarusWillie https://www.ptt.cc//bbs/Food/M.1628871711.A.2F3.html [食記] 臺北大安 馬辣火鍋外帶\n",
            " 8/14 f77142002 https://www.ptt.cc//bbs/Food/M.1628906509.A.186.html [食記] 台北。台式便當-好記擔仔麵~擔仔麵$40\n",
            " 8/14 shangyikuo https://www.ptt.cc//bbs/Food/M.1628909807.A.AAB.html [食記] 花蓮豐濱 伊娜飛魚餐廳\n",
            " 8/14 chickenbo https://www.ptt.cc//bbs/Food/M.1628911260.A.435.html [食記] 台南北區 豬頭妹韓式燒肉吃到飽 平日299\n",
            " 8/14 larle https://www.ptt.cc//bbs/Food/M.1628911286.A.DD0.html [食記] 桃園中壢區。川妹子酸辣粉\n",
            " 8/14 AlphaD https://www.ptt.cc//bbs/Food/M.1628919577.A.BF5.html [問卷] 2021 台北/台中 米其林 必比登 體驗調查 問卷調查\n",
            " 8/14 triccsegg https://www.ptt.cc//bbs/Food/M.1628926954.A.903.html [食記] 台北松山區 1010湘復北店-合菜\n",
            " 8/14 Roa https://www.ptt.cc//bbs/Food/M.1628931806.A.DB8.html [食記] 台北東區 居酒屋餐廳 山男YAMASAN\n",
            " 8/14 kamgx58 https://www.ptt.cc//bbs/Food/M.1628943587.A.C1D.html [食記] 高雄 新志割烹 價格偏高的外帶散壽司\n",
            " 8/14 fatlee https://www.ptt.cc//bbs/Food/M.1628947503.A.EE3.html [食記] 基隆市仁愛區-仁愛市場大腸圈\n",
            " 8/14 thudadai https://www.ptt.cc//bbs/Food/M.1628949214.A.718.html [食記] 新店 賴岡山羊肉\n",
            " 8/15 larle https://www.ptt.cc//bbs/Food/M.1628995215.A.9C0.html [食記] 桃園中壢區。府城担仔麵\n",
            " 8/15 lili890827 https://www.ptt.cc//bbs/Food/M.1628996901.A.8F7.html [討論] （內有抽獎！）雙方交易關係之信任、承諾\n",
            " 8/15 triccsegg https://www.ptt.cc//bbs/Food/M.1628999672.A.3A6.html [食記] 台北中正區 羅媽媽米粉湯-東門市場米粉湯\n",
            " 8/15 chain1103 https://www.ptt.cc//bbs/Food/M.1629004507.A.94F.html [食記] 嘉義 常圓簡餐(原「先家簡餐」)\n",
            " 8/15 hibabino https://www.ptt.cc//bbs/Food/M.1629008101.A.C70.html [食記] 嘉義 吐司男，韓系早午餐\n",
            " 8/15 wimd https://www.ptt.cc//bbs/Food/M.1629010580.A.833.html [食記] 台北松江南京站 食彩櫻日式料理-好吃炸雞\n"
          ],
          "name": "stdout"
        }
      ]
    },
    {
      "cell_type": "code",
      "metadata": {
        "colab": {
          "base_uri": "https://localhost:8080/"
        },
        "id": "2wiuPBSW0fiV",
        "outputId": "d6d570bf-8655-4e73-ffc7-79ce11e2e775"
      },
      "source": [
        "import requests as req\n",
        "from bs4 import BeautifulSoup\n",
        "\n",
        "f_url='https://www.ptt.cc/bbs/Gossiping/index.html'\n",
        "\n",
        "#設定cookie\n",
        "cookie = {'cookie':\"over18=1\"}\n",
        "\n",
        "html = req.get(f_url, headers = cookie)\n",
        "sp = BeautifulSoup(html.text, 'html.parser')\n",
        "datas = sp.find_all('div', class_='r-ent')\n",
        "for data in datas:\n",
        "    print(data.find('div', class_='date').text, end=' ')\n",
        "    print(data.find('div', class_='author').text, end=' ')\n",
        "    print(\"https://www.ptt.cc/\"+data.a.get('href'),data.a.text) "
      ],
      "execution_count": 131,
      "outputs": [
        {
          "output_type": "stream",
          "text": [
            " 8/17 TaraSoYeon https://www.ptt.cc//bbs/Gossiping/M.1629182452.A.44E.html [問卦] 便當的三樣菜選什麼最虧？\n",
            " 8/17 kevin86tp https://www.ptt.cc//bbs/Gossiping/M.1629182478.A.A56.html [問卦] 女權會組織軍隊拯救阿富汗嗎？\n",
            " 8/17 DavidJam https://www.ptt.cc//bbs/Gossiping/M.1629182538.A.685.html [問卦] 如果法律消失，那你會想做什麼？\n",
            " 8/17 BleedWang https://www.ptt.cc//bbs/Gossiping/M.1629182540.A.578.html Re: [問卦] 12猛漢最後一段說的是不是對極了\n",
            " 8/17 keane9112 https://www.ptt.cc//bbs/Gossiping/M.1629182573.A.E94.html [問卦] 支語警察與支語信徒現在風向在誰那？\n",
            " 8/17 fur https://www.ptt.cc//bbs/Gossiping/M.1629182712.A.F0D.html [新聞] 「感謝大家說要還我公道！」馬英九：紓困\n",
            " 8/17 ndhuctc https://www.ptt.cc//bbs/Gossiping/M.1629182732.A.189.html [問卦] 什麼人可以打到兩劑輝瑞？\n",
            " 8/17 bebehome https://www.ptt.cc//bbs/Gossiping/M.1629182743.A.1FD.html Re: [新聞] 塔利班無法無天！擬定12至45歲「性奴隸清\n",
            " 8/17 rodneytw https://www.ptt.cc//bbs/Gossiping/M.1629182770.A.DD8.html [問卦] 慟！發現白色的X毛怎麼辦？\n",
            " 8/17 tetani https://www.ptt.cc//bbs/Gossiping/M.1629182776.A.755.html Re: [新聞] 高端首日結單！30.2萬人搶預約　現貨61.4\n",
            " 8/17 poeta https://www.ptt.cc//bbs/Gossiping/M.1629182823.A.3FC.html [問卦] 阿富汗總統如果有錦囊 上面會寫什麼\n",
            " 8/17 elmotze https://www.ptt.cc//bbs/Gossiping/M.1629182855.A.D07.html Re: [新聞] 拜登辯護撤軍決定：阿富汗軍不肯戰 不該\n",
            " 5/11 arsonlolita https://www.ptt.cc//bbs/Gossiping/M.1620716589.A.F0C.html [公告] 八卦板板規(2021.05.11)\n",
            " 8/12 jqqlas https://www.ptt.cc//bbs/Gossiping/M.1628741625.A.1B9.html [協尋] 8/10(二)16:25新莊新五路與新北大道交叉路口\n",
            " 8/16 bom10306 https://www.ptt.cc//bbs/Gossiping/M.1629077034.A.5A9.html [協尋] 8/5興隆路四段與木柵路二段路口監視器\n",
            " 8/16 winteryoyo https://www.ptt.cc//bbs/Gossiping/M.1629128344.A.FC9.html [協尋] 8/16 行車記錄器 五權西路&工業22路 時間\n",
            " 8/17 iwaizumily https://www.ptt.cc//bbs/Gossiping/M.1629169099.A.BAB.html [協尋] 桃園市4歲黑貓走失\n"
          ],
          "name": "stdout"
        }
      ]
    },
    {
      "cell_type": "markdown",
      "metadata": {
        "id": "WEEqO_bR9Al3"
      },
      "source": [
        "下載學校名冊資料"
      ]
    },
    {
      "cell_type": "code",
      "metadata": {
        "colab": {
          "base_uri": "https://localhost:8080/"
        },
        "id": "dtrqEXWM5U6N",
        "outputId": "fc1a9162-0b4a-4766-b2d4-456f212b2099"
      },
      "source": [
        "import requests as req\n",
        "from bs4 import BeautifulSoup\n",
        "\n",
        "for i in range(20):\n",
        "    #s_url = \"https://highschool.yjvs.chc.edu.tw/search/index.php?city=15&no=2&page=\"+str(i)\n",
        "    s_url = 'https://highschool.yjvs.chc.edu.tw/search/index.php?no=2&page=' + str(i)\n",
        "    html = requests.get(s_url)\n",
        "    sp = BeautifulSoup(html.text, 'html.parser')\n",
        "\n",
        "    datas = sp.find('div',id='school-list').find_all('table')\n",
        "    for data in datas:\n",
        "        school = data.find_all('li')\n",
        "        print(school[0].text,school[1].text\n",
        "            ,school[2].text,school[3].text)\n",
        "    #    for j in range(4):\n",
        "    #        print(school[j].text)\n"
      ],
      "execution_count": 155,
      "outputs": [
        {
          "output_type": "stream",
          "text": [
            "嘉義縣私立協志高級工商職業學校 　[621]嘉義縣民雄鄉建國路二段285巷11號 　05-2264264 　http://www3.ccivs.cyc.edu.tw/2014/\n",
            "臺北市私立滬江高級中學 　[116]台北市文山區景美里羅斯福路6段336號 　02-86631122 　http://www.hchs.tp.edu.tw\n",
            "臺中市明台高級中學 　[413]臺中市霧峰區萊園路91號 　04-23393071 　http://www.mths.tc.edu.tw\n",
            "高雄市私立大榮高級中學 　[804]高雄市鼓山區大榮街1號 　07-5613281 　http://www.dystcs.kh.edu.tw//\n",
            "國立臺灣海洋大學附屬基隆海事高級中等學校 　[20243]基隆市中正區祥豐街246號 　02-24633655 　http://www.klms.ntou.edu.tw/\n",
            "國立基隆高級商工職業學校 　[206]基隆市七堵區東新街22號 　02-24567126 　http://www.klcivs.kl.edu.tw/SchoolWeb/\n",
            "光隆學校財團法人基隆市光隆高級家事商業職業學校 　[201]基隆市信義區信二路264號 　02-24222237 　http://www.klhcvs.kl.edu.tw/\n",
            "基隆市私立培德高級工業家事職業學校 　[201]基隆市信義區培德路73號 　02-24652121 　http://www.ptvs.kl.edu.tw\n",
            "育達學校財團法人臺北市私立普林思頓高級中等學校 　[105]臺北市松山區美仁里寧安街12號 　02-25706767 　http://www.yudah.tp.edu.tw\n",
            "臺北市立松山高級商業家事職業學校 　[11080]台北市信義區松山路655號 　02-27261118 　http://www.ssvs.tp.edu.tw\n",
            "嘉義縣私立協志高級工商職業學校 　[621]嘉義縣民雄鄉建國路二段285巷11號 　05-2264264 　http://www3.ccivs.cyc.edu.tw/2014/\n",
            "臺北市私立滬江高級中學 　[116]台北市文山區景美里羅斯福路6段336號 　02-86631122 　http://www.hchs.tp.edu.tw\n",
            "臺中市明台高級中學 　[413]臺中市霧峰區萊園路91號 　04-23393071 　http://www.mths.tc.edu.tw\n",
            "高雄市私立大榮高級中學 　[804]高雄市鼓山區大榮街1號 　07-5613281 　http://www.dystcs.kh.edu.tw//\n",
            "國立臺灣海洋大學附屬基隆海事高級中等學校 　[20243]基隆市中正區祥豐街246號 　02-24633655 　http://www.klms.ntou.edu.tw/\n",
            "國立基隆高級商工職業學校 　[206]基隆市七堵區東新街22號 　02-24567126 　http://www.klcivs.kl.edu.tw/SchoolWeb/\n",
            "光隆學校財團法人基隆市光隆高級家事商業職業學校 　[201]基隆市信義區信二路264號 　02-24222237 　http://www.klhcvs.kl.edu.tw/\n",
            "基隆市私立培德高級工業家事職業學校 　[201]基隆市信義區培德路73號 　02-24652121 　http://www.ptvs.kl.edu.tw\n",
            "育達學校財團法人臺北市私立普林思頓高級中等學校 　[105]臺北市松山區美仁里寧安街12號 　02-25706767 　http://www.yudah.tp.edu.tw\n",
            "臺北市立松山高級商業家事職業學校 　[11080]台北市信義區松山路655號 　02-27261118 　http://www.ssvs.tp.edu.tw\n",
            "臺北市立松山高級工農職業學校 　[110]臺北市信義區忠孝東路五段236巷15號 　02-27226616 　http://www.saihs.edu.tw\n",
            "臺北市私立東方高級工商職業學校 　[106]台北市大安區信義路四段186巷8號 　02-27554616 　http://www.tfvs.tp.edu.tw/\n",
            "臺北市私立喬治高級工商職業學校 　[110]台北市信義區黎順里基隆路2段155號 　02-27386515 　http://www.gvs.tp.edu.tw\n",
            "臺北市立大安高級工業職業學校 　[106]臺北市大安區龍圖里復興南路2段52號 　02-27091630 　http://www.taivs.tp.edu.tw\n",
            "臺北市私立稻江高級護理家事職業學校 　[104]台北市中山區新生北路三段55號 　02-25955161 　http://www.tcnvs.tp.edu.tw\n",
            "開南學校財團法人臺北市開南高級中等學校 　[10051]台北市中正區東門里濟南路1段6號 　02-23212666 　http://www.knvs.tp.edu.tw\n",
            "臺北市私立稻江高級商業職業學校 　[103]台北市大同區國昌里民權西路225巷24號 　02-25912001、02-25573055 　http://www.tkcvs.tp.edu.tw\n",
            "臺北市立木柵高級工業職業學校 　[116]台北市文山區萬芳里木柵路4段77號 　02-22300506 　http://www.mcvs.tp.edu.tw\n",
            "臺北市立南港高級工業職業學校 　[115]臺北市南港區興中路29號 　02-27825432 　http://www.nkhs.tp.edu.tw/ischool/publish_page/0/\n",
            "國立臺灣戲曲學院(高職部) 　內湖校區：114臺北市內湖區內湖路二段177號；木柵校區：116臺北市文山區木柵路三段66巷8之1號 　內湖(02)27962666；木柵(02)29367231 　http://www.tcpa.edu.tw/\n",
            "臺北市立內湖高級工業職業學校 　[11493]臺北市內湖區港墘里內湖路1段520號 　02-2657-4874 　http://www.nihs.tp.edu.tw\n",
            "臺北市私立華岡藝術學校 　[111095]台北市士林區建業路73巷8號 　02-28612354 　http://www.hka.edu.tw\n",
            "臺北市立士林高級商業職業學校 　[11165]台北市士林區士商路150號 　02-28313114 　http://www.slhs.tp.edu.tw\n",
            "臺北市私立惇敘高級工商職業學校 　[112]台北市北投區林泉里泉源路221號 　02-28912630 　http://www.thvs.tp.edu.tw\n",
            "新北市立瑞芳高級工業職業學校 　[22441]新北市瑞芳區瑞芳街60號 　02-24972516 　http://www.jfvs.ntpc.edu.tw\n",
            "新北市立三重高級商工職業學校 　[24162]新北市三重區中正北路163號 　02-29715606#203~206 　http://www.scvs.ntpc.edu.tw\n",
            "新北市立新北高級工業職業學校 　[236]新北市土城區學府路一段241號 　02-22612483 　http://www.ntvs.ntpc.edu.tw/\n",
            "新北市立淡水高級商工職業學校 　[251]新北市淡水區商工路307號 　02-26203930 　http://www.tsvs.ntpc.edu.tw\n",
            "新北市私立樹人高級家事商業職業學校 　[238]新北市樹林區大安路216號 　02-26870391#128、168 　http://www.stgvs.ntpc.edu.tw\n",
            "新北市私立復興高級商工職業學校 　[234]新北市永和區秀朗路一段201號 　02-29262121 　http://www.fhvs.ntpc.edu.tw\n",
            "新北市私立南強高級工商職業學校 　[231]新北市新店區文化路42號 　02-29155144 　http://www.ncvs.ntpc.edu.tw\n",
            "穀保學校財團法人新北市穀保高級家事商業職業學校 　[241]新北市三重區中正北路560巷38號 　02-29712343 　http://www.kpvs.ntpc.edu.tw\n",
            "新北市私立開明高級工業商業職業學校 　[231]新北市新店區寶中路49號 　02-29136061 　http://210.70.203.6/ischool/publish_page/0/\n",
            "新北市智光高級商工職業學校 　[234]新北市永和區中正路100號 　02-29432491 　http://www.ckvs.ntpc.edu.tw\n",
            "清傳學校財團法人新北市清傳高級商業職業學校 　[241]新北市三重區五谷王北街141巷1號 　02-29955535 　http://210.59.43.232/ischool/publish_page/0/\n",
            "能仁學校財團法人新北市能仁高級家事商業職業學校 　[23152]新北市新店區文中路53巷10號 　02-29182399 　http://www.nrvs.ntpc.edu.tw\n",
            "新北市私立豫章高級工商職業學校 　[220]新北市板橋區四川路一段391號 　02-29519810 　http://www.ycvs.ntpc.edu.tw\n",
            "新北市私立莊敬高級工業家事職業學校 　[231]新北市新店區民生路45號      [234]新北市永和區博愛街36號 　02-22188956#126、118 　http://www.jjvs.ntpc.edu.tw\n",
            "新北市私立中華商業海事職業學校 　[207]新北市萬里區瑪鋉路15號 　02-24922119 　http://www.chmvs.ntpc.edu.tw\n",
            "新北市立鶯歌高級工商職業學校 　[23942]新北市鶯歌區中正三路154號 　02-26775040 　http://www.ykvs.ntpc.edu.tw\n",
            "國立宜蘭高級商業職業學校 　[260]宜蘭縣宜蘭市延平路50號 　03-9384147 　http://www.ilvs.ilc.edu.tw/\n",
            "國立羅東高級商業職業學校 　[265]宜蘭縣羅東鎮中山路四段360號 　03-9512875 　http://www.ltcvs.ilc.edu.tw\n",
            "國立蘇澳高級海事水產職業學校 　[270]宜蘭縣蘇澳鎮蘇港路213號 　03-9951661 　http://www.savs.ilc.edu.tw\n",
            "國立羅東高級工業職業學校 　[269]宜蘭縣冬山鄉廣興路117號 　03-9514196 　http://web.ltivs.ilc.edu.tw/bin/home.php\n",
            "國立頭城高級家事商業職業學校 　[261]宜蘭縣頭城鎮新興路111號 　03-9771131 　http://www.tcvs.ilc.edu.tw\n",
            "國立臺北科技大學附屬桃園農工高級中等學校 　[33047]桃園縣桃園市成功路二段144號 　03-3333921 　http://www.tyai.tyc.edu.tw\n",
            "桃園市立中壢商業高級中等學校 　[320]桃園市中壢區中央西路二段141巷100號 　03-4929871 　http://www.clvsc.tyc.edu.tw\n",
            "桃園市立中壢家事商業高級中等學校 　[320]桃園市中壢區德育路36號 　03-4271627 　http://www.clvs.tyc.edu.tw\n",
            "桃園市私立成功高級工商職業學校 　[333]桃園市龜山區新興里明德路162巷100號 　03-3294188 　http://www.ckvs.tyc.edu.tw\n",
            "方曙學校財團法人桃園市方曙商工高級中等學校 　[325]桃園市龍潭區上林村中原路一段50號 　03-4796345 　http://www.fsvs.tyc.edu.tw\n",
            "永平學校財團法人桃園市私立永平工商高級中等學校 　[326]桃園市楊梅區埔心永平路480號 　03-4817741 　http://www.ypvs.tyc.edu.tw\n",
            "國立新竹高級商業職業學校 　[300]新竹市東區學府路128號 　03-5722150 　http://www.hccvs.hc.edu.tw\n",
            "國立新竹高級工業職業學校 　[30060]新竹市東區中華路二段2號 　03-5322175 　http://www.hcvs.hc.edu.tw\n",
            "新竹縣私立內思高級工業職業學校 　[30595]新竹縣新埔鎮四座里楊新路一段40號 　03-5882520 　http://www.savs.hcc.edu.tw\n",
            "國立大湖高級農工職業學校 　[364]苗栗縣大湖鄉大寮村竹高屋68號 　037-992216 　http://www.thvs.mlc.edu.tw\n",
            "臺中市立臺中家事商業高級中等學校 　[401]臺中市東區和平街50號 　04-22223307 　http://www.tchcvs.tc.edu.tw\n",
            "國立中興大學附屬臺中高級農業職業學校 　[401]臺中市東區台中路283號 　04-22810010 　http://www.tcavs.tc.edu.tw\n",
            "臺中市立臺中工業高級中等學校 　[402]臺中市南區高工路191號 　04-22613158 　http://www.tcivs.tc.edu.tw\n",
            "光華學校財團法人臺中市光華高級工業職業學校 　41141臺中市太平區東平路18號 　04-23949009 　http://www.khvs.tc.edu.tw\n",
            "國立彰化特殊教育學校 　[511]彰化縣社頭鄉中山路一段306號 　04-8727303 　http://www.chsmr.chc.edu.tw/\n",
            "國立華南高級商業職業學校 　[60048]嘉義市東區光彩街69號 　05-2787140 　http://www.phnvs.cy.edu.tw\n",
            "國立嘉義高級工業職業學校 　[600]嘉義市東區彌陀路174號 　05-2763060 　http://www.cyivs.cy.edu.tw\n",
            "國立嘉義高級商業職業學校 　[600]嘉義市東區中山路7號 　05-2782421 　http://www.cyvs.cy.edu.tw\n",
            "國立嘉義高級家事職業學校 　[600]嘉義市東區體育路7號 　05-2259640 　http://www.cyhvs.cy.edu.tw\n",
            "嘉義市私立東吳高級工業家事職業學校 　[600]嘉義市東區宣信街252號 　05-2246161 　https://www.dwvs.cy.edu.tw/\n",
            "國立民雄高級農工職業學校 　[621]嘉義縣民雄鄉文隆村81號 　05-2267120#232 　http://www.mhvs.cyc.edu.tw\n",
            "嘉義縣私立萬能高級工商職業學校 　[608]嘉義縣水上鄉萬能路1號 　05-2687777 　http://www.wnvs.cyc.edu.tw/2019/\n",
            "弘德學校財團法人嘉義縣弘德高級工商職業學校 　[613]嘉義縣朴子市崁後里54之2號 　05-3691473 　http://www.cdvs.cyc.edu.tw\n",
            "國立新化高級工業職業學校 　[71242]台南市新化區信義路54號 　06-5903420 　http://www.hhvs.tn.edu.tw\n",
            "國立白河高級商工職業學校 　[732]台南市白河區永安里新興路528號 　06-6852054轉201、211~213及215 　http://www.phvs.tn.edu.tw/index.asp\n",
            "國立北門高級農工職業學校 　[722]臺南市佳里區六安里117號 　06-7260148 　http://www.pmai.tn.edu.tw\n",
            "國立曾文高級家事商業職業學校 　[72148]台南市麻豆區和平路9號 　06-5722079 　http://www.twvs.tn.edu.tw\n",
            "國立新營高級工業職業學校 　[73060]臺南市新營區中正路68號 　06-6322377 　http://www.hyivs.tn.edu.tw\n",
            "國立玉井高級工商職業學校 　[71445]台南市玉井區中山路1-1號 　06-5741101 　http://www.ycvs.tn.edu.tw\n",
            "國立臺南高級工業職業學校 　[710]台南市永康區中山南路193號 　06-2322131 　http://www.ptivs.tn.edu.tw/\n",
            "國立曾文高級農工職業學校 　[721]台南市麻豆區南勢里1號 　06-5721137 　http://www.twivs.tn.edu.tw\n",
            "國立臺南大學附屬啟聰學校 　[71242]台南市新化區信義路52號 　06-5900504 　http://www.tndsh.tn.edu.tw/\n",
            "陽明學校財團法人臺南市陽明高級工商職業學校 　[720]台南市官田區官田里423號 　06-6901190 　http://www.ymvs.tn.edu.tw\n",
            "臺南市私立育德工業家事職業學校 　[730]台南市新營區健康路211號 　06-6563275 　http://www.ytvs.tn.edu.tw/#\n",
            "國立臺南高級商業職業學校 　[702]臺南市南區健康路一段327號 　06-2617123 　https://www.tncvs.tn.edu.tw\n",
            "國立臺南高級海事水產職業學校 　[708]臺南市安平區世平路1號 　06-3910772 　http://www.tnvs.tn.edu.tw\n",
            "臺南市私立南英高級商工職業學校 　[70051]臺南市中西區永福路一段149號 　06-2131912 　http://www.nyvs.tn.edu.tw\n",
            "臺南市亞洲高級餐旅職業學校 　[702]臺南市南區大成路一段5號 　06-2640175 　http://www.asvs.tn.edu.tw\n",
            "臺南市私立慈幼高級工商職業學校 　[701]臺南市東區裕農路801號 　06-2362106 　http://www.ssvs.tn.edu.tw\n",
            "國立旗山高級農工職業學校 　[842]高雄市旗山區旗甲路一段195號 　07-6612501 　http://www.csvs.khc.edu.tw\n",
            "國立岡山高級農工職業學校 　[82049]高雄市岡山區壽天里岡山路533號 　07-6217129 　http://www.ksvs.khc.edu.tw\n",
            "國立鳳山高級商工職業學校 　[83052]高雄市鳳山區文衡路51號 　07-7462602 　http://www.fsvs.ks.edu.tw\n",
            "中山學校財團法人高雄市中山高級工商職業學校 　[831]高雄市大寮區會社里正氣路79號 　07-782-7311、07-781-5311 　http://www2.csic.khc.edu.tw/PPP/index.asp\n",
            "高雄市私立旗美高級商工職業學校 　[843]高雄市美濃區中興路二段275號 　07-6812152 　http://cm.cmvsedu.tw/\n",
            "高雄市私立高英高級工商職業學校 　[831]高雄市大寮區鳳林三路19巷44號 　07-7832991 　http://www.kyicvs.khc.edu.tw/\n",
            "華德學校財團法人高雄市華德高級工業家事職業學校 　[852]高雄市茄萣區濱海路四段66號 　07-6921212 　http://www.hdvs.kh.edu.tw\n",
            "私立高苑高級工商職業學校 　[82544]高雄市橋頭區東林里芋寮路一號 　07-6111101~7 　http://www.kyvs.ks.edu.tw\n",
            "國立內埔高級農工職業學校 　[912]屏東縣內埔鄉水門村成功路83號 　08-7991103 　http://www.npvs.ptc.edu.tw\n",
            "國立屏東高級工業職業學校 　[900]屏東縣屏東市建國路25號 　08-7523781 　http://www.ptivs.ptc.edu.tw\n",
            "國立佳冬高級農業職業學校 　[931]屏東縣佳冬鄉佳冬村佳農街67號 　08-8662726 　https://www.ctvs.ptc.edu.tw\n",
            "國立東港高級海事水產職業學校 　[928]屏東縣東港鎮豐漁街66號 　08-8333131 　http://www.tkms.ptc.edu.tw\n",
            "國立恆春高級工商職業學校 　[946]屏東縣恆春鎮恆南路38號 　08-8892010 　http://www.hcvs.ptc.edu.tw\n",
            "屏東縣私立民生高級家事商業職業學校 　[900005]屏東縣屏東市民生東路12號 　08-7223029 　https://www.msvs.ptc.edu.tw\n",
            "屏東縣私立華洲高級工業家事職業學校 　[900]屏東縣屏東市歸心里歸仁路63巷99號 　08-7521516～219 　http://www.hcivs.ptc.edu.tw\n",
            "屏東縣私立日新高級工商職業學校 　[920]屏東縣潮州鎮太平路224號 　08-7882343 　http://www.jhvs.ptc.edu.tw\n",
            "國立花蓮高級農業職業學校 　[970]花蓮縣花蓮市建國路161號 　03-8312301 　http://www.hla.hlc.edu.tw\n",
            "國立花蓮高級工業職業學校 　[97058]花蓮縣花蓮市府前路27號 　03-8226108 　http://www.hlis.hlc.edu.tw\n",
            "國立花蓮高級商業職業學校 　[970]花蓮縣花蓮市中山路418號 　03-8334646 　http://www.hlbh.hlc.edu.tw\n",
            "國立光復高級商工職業學校 　[976]花蓮縣光復鄉林森路100號 　03-8700245 　http://www.kfcivs.hlc.edu.tw\n",
            "花蓮縣上騰高級工商職業學校 　[973]花蓮縣吉安鄉吉安村吉興四街101號 　038-538565 　http://www.chvs.hlc.edu.tw/sundance/\n",
            "國立臺東專科學校附設高職部 　[950]臺東縣臺東市正氣北路889號 　089-226389 　http://www.ntc.edu.tw\n",
            "國立關山高級工商職業學校 　[956]臺東縣關山鎮民權路58號 　089-811006 　https://www.ksvs.ttct.edu.tw/\n",
            "國立臺東高級商業職業學校 　[950]臺東縣臺東市正氣路440號 　089-350575 　http://www.tscvs.ttct.edu.tw\n",
            "國立成功商業水產職業學校 　[961]臺東縣成功鎮太平路52號 　089-850011 　http://www.ckvs.ttct.edu.tw\n",
            "臺東縣私立公東高級工業職業學校 　[950]臺東縣臺東市中興路一段560號 　089-222877 　http://web1.ktus.ttct.edu.tw/bin/home.php\n",
            "國立澎湖高級海事水產職業學校 　[88042]澎湖縣馬公市中興里民族路63號 　06-9261101 　http://www.phmhs.phc.edu.tw\n",
            "國立苗栗高級農工職業學校 　[36057]苗栗縣苗栗市經國路二段491號 　037-329281 　http://www.mlaivs.mlc.edu.tw\n",
            "國立苗栗高級商業職業學校 　[36047]苗栗縣苗栗市電台街7號 　037-356001 　http://www.mlvs.mlc.edu.tw\n",
            "苗栗縣私立中興高級商工職業學校 　[350]苗栗縣竹南鎮大營路211號 　037-467360 　http://www.csvs.mlc.edu.tw\n",
            "苗栗縣私立育民高級工業家事職業學校 　[360]苗栗縣苗栗市水源里育民街37號 　037-353888 　http://www.ymvs.mlc.edu.tw\n",
            "苗栗縣私立賢德高級工商職業學校 　[357]苗栗縣通霄鎮五北里74之1號 　037-751011 　http://www.sdvs.mlc.edu.tw\n",
            "苗栗縣私立龍德家事商業職業學校 　[358]苗栗縣苑裡鎮房裡里南房75之1號 　037-851277 　http://www.ldvs.mlc.edu.tw\n",
            "臺中市立豐原商業高級中等學校 　[420]台中市豐原區圓環南路50號 　04-25283556 　http://www.fyvs.tc.edu.tw\n",
            "臺中市立大甲工業高級中等學校 　[437]臺中市大甲區頂店里開元路71號 　04-26874132 　http://www.tcvs.tc.edu.tw/\n",
            "臺中市立東勢工業高級中等學校 　[423]臺中市東勢區東關路6段1328號 　04-25872136 　http://www.tsvs.tc.edu.tw/\n",
            "臺中市立沙鹿工業高級中等學校 　433臺中市沙鹿區臺灣大道七段823號 　04-26621795 　http://www.slvs.tc.edu.tw\n",
            "臺中市立霧峰農業工業高級中等學校 　[413]臺中市霧峰區中正路1222號 　04-23303118 　http://www.wufai.edu.tw\n",
            "國立彰化師範大學附屬高級工業職業學校 　[500]彰化縣彰化市和調里工校街1號 　04-7252541 　http://www.sivs.chc.edu.tw\n",
            "國立永靖高級工業職業學校 　[512]彰化縣永靖鄉永北村永坡路101號 　04-8221810 　https://www.yjvs.chc.edu.tw/home\n",
            "國立二林高級工商職業學校 　[526]彰化縣二林鎮豐田里斗苑路四段500號 　04-8962132 　http://www.elvs.chc.edu.tw\n",
            "國立秀水高級工業職業學校 　[504]彰化縣秀水鄉福安村中山路364號 　04-7697021 　http://www.ssivs.chc.edu.tw\n",
            "國立彰化高級商業職業學校 　[500]彰化縣彰化市華陽里南郭路一段326號 　04-7262623 　http://www.chsc.tw/\n",
            "國立員林高級農工職業學校 　[510]彰化縣員林鎮員水路二段313號 　04-8360105 　http://www.ylvs.chc.edu.tw\n",
            "國立員林崇實高級工業職業學校 　[510]彰化縣員林市育英路103號 　04-8347106 　http://www.csvs.chc.edu.tw\n",
            "國立員林高級家事商業職業學校 　[510]彰化縣員林市中正路56號 　04-8320260 　http://www.ylhcvs.chc.edu.tw\n",
            "國立北斗高級家事商業職業學校 　[521]彰化縣北斗鎮學府路50號 　04-8882224 　http://www.pthc.chc.edu.tw\n",
            "彰化縣私立大慶高級商工職業學校 　[510]彰化縣員林市山腳路二段206號 　04-8311005 　http://www.dcvs.chc.edu.tw\n",
            "彰化縣私立達德高級商工職業學校 　[520]彰化縣田中鎮中南路二段277號 　04-8753929 　http://www.tdvs.chc.edu.tw\n",
            "國立仁愛高級農業職業學校 　[546]南投縣仁愛鄉大同村山農巷27號 　049-2802619 　http://www.ravs.ntct.edu.tw\n",
            "國立埔里高級工業職業學校 　[545]南投縣埔里鎮中山路一段435號 　049-2982225 　https://www.plvs.ntct.edu.tw\n",
            "國立南投高級商業職業學校 　[540]南投縣南投市三興里彰南路一段993號 　049-2222269#2207~2209 　http://www.pntcv.ntct.edu.tw\n",
            "國立草屯高級商工職業學校 　[542]南投縣草屯鎮新庄里芬草路二段736號 　049-2362082 　http://www.ttvs.ntct.edu.tw\n",
            "國立水里高級商工職業學校 　[553]南投縣水里鄉南湖路2號 　049-2870666 　http://www.slvs.ntct.edu.tw/\n",
            "同德學校財團法人南投縣同德高級中等學校 　[542]南投縣草屯鎮中正路培英巷8號 　049-2553109 　http://www.tdvs.ntct.edu.tw\n",
            "國立虎尾高級農工職業學校 　[63244]雲林縣虎尾鎮公安里博愛路65號 　05-6322767 　http://www.hwaivs.ylc.edu.tw\n",
            "國立西螺高級農工職業學校 　[648]雲林縣西螺鎮大同路4號 　05-5862024 　http://www.hlvs.ylc.edu.tw\n",
            "國立斗六高級家事商業職業學校 　[640]雲林縣斗六市成功路120號 　05-5322147 　http://www.tlhc.ylc.edu.tw\n",
            "國立北港高級農工職業學校 　[651]雲林縣北港鎮太平路80號 　05-7832246 　http://www.pkvs.ylc.edu.tw/\n",
            "國立土庫高級商工職業學校 　[633]雲林縣土庫鎮中央路2號 　05-6622538 　http://www.tkvs.ylc.edu.tw\n",
            "雲林縣私立大成高級商工職業學校 　[632]雲林縣虎尾鎮成平街21號 　05-6322534轉22 　http://www.tcvhs.ylc.edu.tw\n",
            "雲林縣私立大德工業商業職業學校 　[630]雲林縣斗南鎮大同路400號 　05-5970977 　http://www.ddvs.ylc.edu.tw/\n",
            "高雄市私立中華藝術學校 　[804]高雄市鼓山區美術館路89號 　07-5549696 　http://www.charts.kh.edu.tw\n",
            "高雄市立海青高級工商職業學校 　[813]高雄市左營區左營大路1號 　07-5819155 　http://www.hcvs.kh.edu.tw\n",
            "高雄市立三民高級家事商業職業學校 　[813]高雄市左營區裕誠路1102號 　07-5525887 　http://www.smvhs.kh.edu.tw\n",
            "高雄市私立樹德高級家事商業職業學校 　[807]高雄市三民區建興路116號 　07-3848622 　http://www.shute.kh.edu.tw\n",
            "高雄市立高雄高級工業職業學校 　[80778]高雄市三民區建工路419號 　07-3815366 　http://www.ksvs.kh.edu.tw\n",
            "高雄市立高雄高級商業職業學校 　[80045]高雄市新興區五福二路3號 　07-2269975 　http://www.ksvcs.kh.edu.tw\n",
            "國際學校財團法人高雄市國際商工高級中等學校 　[802]高雄市苓雅區三多二路84號 　07-7228665#251 　http://www.kcvs.kh.edu.tw\n",
            "高雄市私立三信高級家事商業職業學校 　[802]高雄市苓雅區三多一路186號 　07-7517171 　http://www.sanhsin.edu.tw\n",
            "高雄市立中正高級工業職業學校 　[806]高雄市前鎮區光華二路80號 　07-7232301 　http://www.ccvs.kh.edu.tw\n",
            "國立金門高級農工職業學校 　[891]金門縣金湖鎮新市里復興路1之11號 　082-333508 　http://www.kmvs.km.edu.tw/\n",
            "臺北市私立開平餐飲職業學校 　[106]台北市大安區復興南路2段148巷24號 　02-27556939 　http://www.kpvs.tp.edu.tw\n",
            "國立臺南特殊教育學校 　709 臺南市安南區長和路二段74號 　06-355-4591~3 　http://www.tnmr.tn.edu.tw/index.php\n",
            "臺中市立啟聰學校 　臺中市西屯區安和路1號 　04-23589577 　www.thdf.tc.edu.tw\n",
            "新北市立新北特殊教育學校 　[244]新北市林口區文化北路一段425號 　02-26006768 　http://210.60.207.4/default.asp\n",
            "臺北市立啟聰學校 　台北市大同區重慶北路三段320號 　02-25924446 　http://www.tmd.tp.edu.tw/tmd/\n",
            "臺北市立文山特殊教育學校 　[11665]臺北市文山區 秀明路一段 169 號 　02-86615183 　http://www.wsses.tp.edu.tw/\n",
            "臺北市立臺北特殊教育學校 　[11153]臺北市士林區忠誠路二段207巷3號 　02-28749117 　http://www.tpmr.tp.edu.tw/\n",
            "臺北市立啟明學校 　臺北市士林區忠誠路二段207巷1號 　02-2874-0670 　http://www.tmsb.tp.edu.tw/nss/p/index\n",
            "國立桃園啟智學校 　[33062]桃園市桃園區德壽街 10 號 　03-3647099 　http://www.tsad.tyc.edu.tw/\n",
            "私立惠明學校 　[428]台中市大雅區雅潭路四段336號 　04-25661024 　http://www.hmsh.tc.edu.tw/\n",
            "臺中市立臺中特殊教育學校 　[40861]臺中市南屯區公益路2段296號 　04-22582289 　www.tcspe.tc.edu.tw\n",
            "高雄市立仁武特殊教育學校 　[814]高雄市仁武區八卦里澄觀路1389號 　07-3749788 　http://w3.ses.ks.edu.tw/\n",
            "高雄市立楠梓特殊學校 　高雄市楠梓區德民路211號 　07-3642007 　http://www.nzsmr.kh.edu.tw\n",
            "高雄市立高雄特殊教育學校 　[802]高雄市苓雅區憲政路233巷2號 　07-223-5940 　http://www.kmsmr.kh.edu.tw/\n",
            "高雄市立成功特殊教育學校 　高雄市前鎮區80654復興三路3號 　07-3304624 　http://www.ckmr.kh.edu.tw/\n",
            "國立宜蘭特殊教育學校 　[26843]宜蘭縣五結鄉國民中路22-20號 　03-950-9788 　http://www.isse.ilc.edu.tw/\n",
            "國立新竹特殊教育學校 　[302]新竹縣竹北市光明六路東二段201號 　03-6676639 　http://www.nhs.hcc.edu.tw/\n",
            "國立苗栗特殊教育學校 　苗栗縣苗栗市嘉新里經國路四段825號 　037-266498 　www.mlses.mlc.edu.tw\n",
            "國立南投特殊教育學校 　[54046]南投縣南投市中興新村仁德路200號 　049-2390773 　http://www.ntss.ntct.edu.tw/index.php\n",
            "國立雲林特殊教育學校 　[63049]雲林縣斗南鎮新崙里新崙路100號 　05-5969241 　http://www.nyses.ylc.edu.tw/\n",
            "國立屏東特殊教育學校 　屏東縣潮州鎮光春路311號 　08-7805510 　http://web.pses.ptc.edu.tw/default1.asp\n",
            "國立臺東大學附屬特殊教育學校 　臺東市中興路三段401巷170號 　089-229912~4 　http://www.nttusps.nttu.edu.tw/\n",
            "國立花蓮特殊教育學校 　[973]花蓮縣吉安鄉中山路二段2號 　03-8544225 　http://www.hlmrs.hlc.edu.tw/default.asp\n",
            "國立基隆特殊教育學校 　[20650]基隆市七堵區堵南街20號 　02-2452-6332 　http://www.klses.kl.edu.tw/\n",
            "國立嘉義特殊教育學校 　[600]嘉義市世賢路二段123號 　05-2858549 　https://www.cymrs.cy.edu.tw/\n",
            "國立高雄餐旅大學附屬餐旅高級中等學校 　高雄市小港區松和路40號 　07-8060705 　http://nkhhs.kmhjh.kh.edu.tw/\n",
            "新北市立樟樹國際實創高級中等學校 　新北市汐止區樟樹二路135號 　02-26430686 　http://www.ctjhs.ntpc.edu.tw/\n",
            "臺中市立神岡工業高級中等學校 　臺中市神岡區中山路627號 　04-25623421 　https://sgihs.tc.edu.tw/\n"
          ],
          "name": "stdout"
        }
      ]
    },
    {
      "cell_type": "markdown",
      "metadata": {
        "id": "ZkmxWrriBoGi"
      },
      "source": [
        "寫入檔案"
      ]
    },
    {
      "cell_type": "code",
      "metadata": {
        "id": "ilwGYI8dBnB1"
      },
      "source": [
        "with open('test.txt', 'a') as f:\n",
        "    f.write('HelloWorld')\n",
        "\n",
        "\n"
      ],
      "execution_count": 160,
      "outputs": []
    },
    {
      "cell_type": "code",
      "metadata": {
        "id": "m8PLK92-CmXN"
      },
      "source": [
        "import requests as req\n",
        "from bs4 import BeautifulSoup\n",
        "with open('school.csv', 'w') as f:\n",
        "    f.write(\"學校, 住址, 電話, 網址\\n\")\n",
        "\n",
        "\n",
        "for i in range(20):\n",
        "    #s_url = \"https://highschool.yjvs.chc.edu.tw/search/index.php?city=15&no=2&page=\"+str(i)\n",
        "    s_url = 'https://highschool.yjvs.chc.edu.tw/search/index.php?no=2&page=' + str(i)\n",
        "    html = requests.get(s_url)\n",
        "    sp = BeautifulSoup(html.text, 'html.parser')\n",
        "\n",
        "    datas = sp.find('div',id='school-list').find_all('table')\n",
        "    for data in datas:\n",
        "        school = data.find_all('li')\n",
        "        with open('school.csv', 'a') as f:\n",
        "            f.write(\"{},{},{},{}\\t\\n\".format(school[0].text,school[1].text,school[2].text,\n",
        "                        school[3].text))        "
      ],
      "execution_count": 165,
      "outputs": []
    },
    {
      "cell_type": "code",
      "metadata": {
        "colab": {
          "base_uri": "https://localhost:8080/"
        },
        "id": "pcoNCmPQDltd",
        "outputId": "c5d6b6db-7021-4969-dbbd-a0f2a881652f"
      },
      "source": [
        "!cat school.csv"
      ],
      "execution_count": 166,
      "outputs": [
        {
          "output_type": "stream",
          "text": [
            "學校, 住址, 電話, 網址\n",
            "嘉義縣私立協志高級工商職業學校,　[621]嘉義縣民雄鄉建國路二段285巷11號,　05-2264264,　http://www3.ccivs.cyc.edu.tw/2014/\t\n",
            "臺北市私立滬江高級中學,　[116]台北市文山區景美里羅斯福路6段336號,　02-86631122,　http://www.hchs.tp.edu.tw\t\n",
            "臺中市明台高級中學,　[413]臺中市霧峰區萊園路91號,　04-23393071,　http://www.mths.tc.edu.tw\t\n",
            "高雄市私立大榮高級中學,　[804]高雄市鼓山區大榮街1號,　07-5613281,　http://www.dystcs.kh.edu.tw//\t\n",
            "國立臺灣海洋大學附屬基隆海事高級中等學校,　[20243]基隆市中正區祥豐街246號,　02-24633655,　http://www.klms.ntou.edu.tw/\t\n",
            "國立基隆高級商工職業學校,　[206]基隆市七堵區東新街22號,　02-24567126,　http://www.klcivs.kl.edu.tw/SchoolWeb/\t\n",
            "光隆學校財團法人基隆市光隆高級家事商業職業學校,　[201]基隆市信義區信二路264號,　02-24222237,　http://www.klhcvs.kl.edu.tw/\t\n",
            "基隆市私立培德高級工業家事職業學校,　[201]基隆市信義區培德路73號,　02-24652121,　http://www.ptvs.kl.edu.tw\t\n",
            "育達學校財團法人臺北市私立普林思頓高級中等學校,　[105]臺北市松山區美仁里寧安街12號,　02-25706767,　http://www.yudah.tp.edu.tw\t\n",
            "臺北市立松山高級商業家事職業學校,　[11080]台北市信義區松山路655號,　02-27261118,　http://www.ssvs.tp.edu.tw\t\n",
            "嘉義縣私立協志高級工商職業學校,　[621]嘉義縣民雄鄉建國路二段285巷11號,　05-2264264,　http://www3.ccivs.cyc.edu.tw/2014/\t\n",
            "臺北市私立滬江高級中學,　[116]台北市文山區景美里羅斯福路6段336號,　02-86631122,　http://www.hchs.tp.edu.tw\t\n",
            "臺中市明台高級中學,　[413]臺中市霧峰區萊園路91號,　04-23393071,　http://www.mths.tc.edu.tw\t\n",
            "高雄市私立大榮高級中學,　[804]高雄市鼓山區大榮街1號,　07-5613281,　http://www.dystcs.kh.edu.tw//\t\n",
            "國立臺灣海洋大學附屬基隆海事高級中等學校,　[20243]基隆市中正區祥豐街246號,　02-24633655,　http://www.klms.ntou.edu.tw/\t\n",
            "國立基隆高級商工職業學校,　[206]基隆市七堵區東新街22號,　02-24567126,　http://www.klcivs.kl.edu.tw/SchoolWeb/\t\n",
            "光隆學校財團法人基隆市光隆高級家事商業職業學校,　[201]基隆市信義區信二路264號,　02-24222237,　http://www.klhcvs.kl.edu.tw/\t\n",
            "基隆市私立培德高級工業家事職業學校,　[201]基隆市信義區培德路73號,　02-24652121,　http://www.ptvs.kl.edu.tw\t\n",
            "育達學校財團法人臺北市私立普林思頓高級中等學校,　[105]臺北市松山區美仁里寧安街12號,　02-25706767,　http://www.yudah.tp.edu.tw\t\n",
            "臺北市立松山高級商業家事職業學校,　[11080]台北市信義區松山路655號,　02-27261118,　http://www.ssvs.tp.edu.tw\t\n",
            "臺北市立松山高級工農職業學校,　[110]臺北市信義區忠孝東路五段236巷15號,　02-27226616,　http://www.saihs.edu.tw\t\n",
            "臺北市私立東方高級工商職業學校,　[106]台北市大安區信義路四段186巷8號,　02-27554616,　http://www.tfvs.tp.edu.tw/\t\n",
            "臺北市私立喬治高級工商職業學校,　[110]台北市信義區黎順里基隆路2段155號,　02-27386515,　http://www.gvs.tp.edu.tw\t\n",
            "臺北市立大安高級工業職業學校,　[106]臺北市大安區龍圖里復興南路2段52號,　02-27091630,　http://www.taivs.tp.edu.tw\t\n",
            "臺北市私立稻江高級護理家事職業學校,　[104]台北市中山區新生北路三段55號,　02-25955161,　http://www.tcnvs.tp.edu.tw\t\n",
            "開南學校財團法人臺北市開南高級中等學校,　[10051]台北市中正區東門里濟南路1段6號,　02-23212666,　http://www.knvs.tp.edu.tw\t\n",
            "臺北市私立稻江高級商業職業學校,　[103]台北市大同區國昌里民權西路225巷24號,　02-25912001、02-25573055,　http://www.tkcvs.tp.edu.tw\t\n",
            "臺北市立木柵高級工業職業學校,　[116]台北市文山區萬芳里木柵路4段77號,　02-22300506,　http://www.mcvs.tp.edu.tw\t\n",
            "臺北市立南港高級工業職業學校,　[115]臺北市南港區興中路29號,　02-27825432,　http://www.nkhs.tp.edu.tw/ischool/publish_page/0/\t\n",
            "國立臺灣戲曲學院(高職部),　內湖校區：114臺北市內湖區內湖路二段177號；木柵校區：116臺北市文山區木柵路三段66巷8之1號,　內湖(02)27962666；木柵(02)29367231,　http://www.tcpa.edu.tw/\t\n",
            "臺北市立內湖高級工業職業學校,　[11493]臺北市內湖區港墘里內湖路1段520號,　02-2657-4874,　http://www.nihs.tp.edu.tw\t\n",
            "臺北市私立華岡藝術學校,　[111095]台北市士林區建業路73巷8號,　02-28612354,　http://www.hka.edu.tw\t\n",
            "臺北市立士林高級商業職業學校,　[11165]台北市士林區士商路150號,　02-28313114,　http://www.slhs.tp.edu.tw\t\n",
            "臺北市私立惇敘高級工商職業學校,　[112]台北市北投區林泉里泉源路221號,　02-28912630,　http://www.thvs.tp.edu.tw\t\n",
            "新北市立瑞芳高級工業職業學校,　[22441]新北市瑞芳區瑞芳街60號,　02-24972516,　http://www.jfvs.ntpc.edu.tw\t\n",
            "新北市立三重高級商工職業學校,　[24162]新北市三重區中正北路163號,　02-29715606#203~206,　http://www.scvs.ntpc.edu.tw\t\n",
            "新北市立新北高級工業職業學校,　[236]新北市土城區學府路一段241號,　02-22612483,　http://www.ntvs.ntpc.edu.tw/\t\n",
            "新北市立淡水高級商工職業學校,　[251]新北市淡水區商工路307號,　02-26203930,　http://www.tsvs.ntpc.edu.tw\t\n",
            "新北市私立樹人高級家事商業職業學校,　[238]新北市樹林區大安路216號,　02-26870391#128、168,　http://www.stgvs.ntpc.edu.tw\t\n",
            "新北市私立復興高級商工職業學校,　[234]新北市永和區秀朗路一段201號,　02-29262121,　http://www.fhvs.ntpc.edu.tw\t\n",
            "新北市私立南強高級工商職業學校,　[231]新北市新店區文化路42號,　02-29155144,　http://www.ncvs.ntpc.edu.tw\t\n",
            "穀保學校財團法人新北市穀保高級家事商業職業學校,　[241]新北市三重區中正北路560巷38號,　02-29712343,　http://www.kpvs.ntpc.edu.tw\t\n",
            "新北市私立開明高級工業商業職業學校,　[231]新北市新店區寶中路49號,　02-29136061,　http://210.70.203.6/ischool/publish_page/0/\t\n",
            "新北市智光高級商工職業學校,　[234]新北市永和區中正路100號,　02-29432491,　http://www.ckvs.ntpc.edu.tw\t\n",
            "清傳學校財團法人新北市清傳高級商業職業學校,　[241]新北市三重區五谷王北街141巷1號,　02-29955535,　http://210.59.43.232/ischool/publish_page/0/\t\n",
            "能仁學校財團法人新北市能仁高級家事商業職業學校,　[23152]新北市新店區文中路53巷10號,　02-29182399,　http://www.nrvs.ntpc.edu.tw\t\n",
            "新北市私立豫章高級工商職業學校,　[220]新北市板橋區四川路一段391號,　02-29519810,　http://www.ycvs.ntpc.edu.tw\t\n",
            "新北市私立莊敬高級工業家事職業學校,　[231]新北市新店區民生路45號      [234]新北市永和區博愛街36號,　02-22188956#126、118,　http://www.jjvs.ntpc.edu.tw\t\n",
            "新北市私立中華商業海事職業學校,　[207]新北市萬里區瑪鋉路15號,　02-24922119,　http://www.chmvs.ntpc.edu.tw\t\n",
            "新北市立鶯歌高級工商職業學校,　[23942]新北市鶯歌區中正三路154號,　02-26775040,　http://www.ykvs.ntpc.edu.tw\t\n",
            "國立宜蘭高級商業職業學校,　[260]宜蘭縣宜蘭市延平路50號,　03-9384147,　http://www.ilvs.ilc.edu.tw/\t\n",
            "國立羅東高級商業職業學校,　[265]宜蘭縣羅東鎮中山路四段360號,　03-9512875,　http://www.ltcvs.ilc.edu.tw\t\n",
            "國立蘇澳高級海事水產職業學校,　[270]宜蘭縣蘇澳鎮蘇港路213號,　03-9951661,　http://www.savs.ilc.edu.tw\t\n",
            "國立羅東高級工業職業學校,　[269]宜蘭縣冬山鄉廣興路117號,　03-9514196,　http://web.ltivs.ilc.edu.tw/bin/home.php\t\n",
            "國立頭城高級家事商業職業學校,　[261]宜蘭縣頭城鎮新興路111號,　03-9771131,　http://www.tcvs.ilc.edu.tw\t\n",
            "國立臺北科技大學附屬桃園農工高級中等學校,　[33047]桃園縣桃園市成功路二段144號,　03-3333921,　http://www.tyai.tyc.edu.tw\t\n",
            "桃園市立中壢商業高級中等學校,　[320]桃園市中壢區中央西路二段141巷100號,　03-4929871,　http://www.clvsc.tyc.edu.tw\t\n",
            "桃園市立中壢家事商業高級中等學校,　[320]桃園市中壢區德育路36號,　03-4271627,　http://www.clvs.tyc.edu.tw\t\n",
            "桃園市私立成功高級工商職業學校,　[333]桃園市龜山區新興里明德路162巷100號,　03-3294188,　http://www.ckvs.tyc.edu.tw\t\n",
            "方曙學校財團法人桃園市方曙商工高級中等學校,　[325]桃園市龍潭區上林村中原路一段50號,　03-4796345,　http://www.fsvs.tyc.edu.tw\t\n",
            "永平學校財團法人桃園市私立永平工商高級中等學校,　[326]桃園市楊梅區埔心永平路480號,　03-4817741,　http://www.ypvs.tyc.edu.tw\t\n",
            "國立新竹高級商業職業學校,　[300]新竹市東區學府路128號,　03-5722150,　http://www.hccvs.hc.edu.tw\t\n",
            "國立新竹高級工業職業學校,　[30060]新竹市東區中華路二段2號,　03-5322175,　http://www.hcvs.hc.edu.tw\t\n",
            "新竹縣私立內思高級工業職業學校,　[30595]新竹縣新埔鎮四座里楊新路一段40號,　03-5882520,　http://www.savs.hcc.edu.tw\t\n",
            "國立大湖高級農工職業學校,　[364]苗栗縣大湖鄉大寮村竹高屋68號,　037-992216,　http://www.thvs.mlc.edu.tw\t\n",
            "臺中市立臺中家事商業高級中等學校,　[401]臺中市東區和平街50號,　04-22223307,　http://www.tchcvs.tc.edu.tw\t\n",
            "國立中興大學附屬臺中高級農業職業學校,　[401]臺中市東區台中路283號,　04-22810010,　http://www.tcavs.tc.edu.tw\t\n",
            "臺中市立臺中工業高級中等學校,　[402]臺中市南區高工路191號,　04-22613158,　http://www.tcivs.tc.edu.tw\t\n",
            "光華學校財團法人臺中市光華高級工業職業學校,　41141臺中市太平區東平路18號,　04-23949009,　http://www.khvs.tc.edu.tw\t\n",
            "國立彰化特殊教育學校,　[511]彰化縣社頭鄉中山路一段306號,　04-8727303,　http://www.chsmr.chc.edu.tw/\t\n",
            "國立華南高級商業職業學校,　[60048]嘉義市東區光彩街69號,　05-2787140,　http://www.phnvs.cy.edu.tw\t\n",
            "國立嘉義高級工業職業學校,　[600]嘉義市東區彌陀路174號,　05-2763060,　http://www.cyivs.cy.edu.tw\t\n",
            "國立嘉義高級商業職業學校,　[600]嘉義市東區中山路7號,　05-2782421,　http://www.cyvs.cy.edu.tw\t\n",
            "國立嘉義高級家事職業學校,　[600]嘉義市東區體育路7號,　05-2259640,　http://www.cyhvs.cy.edu.tw\t\n",
            "嘉義市私立東吳高級工業家事職業學校,　[600]嘉義市東區宣信街252號,　05-2246161,　https://www.dwvs.cy.edu.tw/\t\n",
            "國立民雄高級農工職業學校,　[621]嘉義縣民雄鄉文隆村81號,　05-2267120#232,　http://www.mhvs.cyc.edu.tw\t\n",
            "嘉義縣私立萬能高級工商職業學校,　[608]嘉義縣水上鄉萬能路1號,　05-2687777,　http://www.wnvs.cyc.edu.tw/2019/\t\n",
            "弘德學校財團法人嘉義縣弘德高級工商職業學校,　[613]嘉義縣朴子市崁後里54之2號,　05-3691473,　http://www.cdvs.cyc.edu.tw\t\n",
            "國立新化高級工業職業學校,　[71242]台南市新化區信義路54號,　06-5903420,　http://www.hhvs.tn.edu.tw\t\n",
            "國立白河高級商工職業學校,　[732]台南市白河區永安里新興路528號,　06-6852054轉201、211~213及215,　http://www.phvs.tn.edu.tw/index.asp\t\n",
            "國立北門高級農工職業學校,　[722]臺南市佳里區六安里117號,　06-7260148,　http://www.pmai.tn.edu.tw\t\n",
            "國立曾文高級家事商業職業學校,　[72148]台南市麻豆區和平路9號,　06-5722079,　http://www.twvs.tn.edu.tw\t\n",
            "國立新營高級工業職業學校,　[73060]臺南市新營區中正路68號,　06-6322377,　http://www.hyivs.tn.edu.tw\t\n",
            "國立玉井高級工商職業學校,　[71445]台南市玉井區中山路1-1號,　06-5741101,　http://www.ycvs.tn.edu.tw\t\n",
            "國立臺南高級工業職業學校,　[710]台南市永康區中山南路193號,　06-2322131,　http://www.ptivs.tn.edu.tw/\t\n",
            "國立曾文高級農工職業學校,　[721]台南市麻豆區南勢里1號,　06-5721137,　http://www.twivs.tn.edu.tw\t\n",
            "國立臺南大學附屬啟聰學校,　[71242]台南市新化區信義路52號,　06-5900504,　http://www.tndsh.tn.edu.tw/\t\n",
            "陽明學校財團法人臺南市陽明高級工商職業學校,　[720]台南市官田區官田里423號,　06-6901190,　http://www.ymvs.tn.edu.tw\t\n",
            "臺南市私立育德工業家事職業學校,　[730]台南市新營區健康路211號,　06-6563275,　http://www.ytvs.tn.edu.tw/#\t\n",
            "國立臺南高級商業職業學校,　[702]臺南市南區健康路一段327號,　06-2617123,　https://www.tncvs.tn.edu.tw\t\n",
            "國立臺南高級海事水產職業學校,　[708]臺南市安平區世平路1號,　06-3910772,　http://www.tnvs.tn.edu.tw\t\n",
            "臺南市私立南英高級商工職業學校,　[70051]臺南市中西區永福路一段149號,　06-2131912,　http://www.nyvs.tn.edu.tw\t\n",
            "臺南市亞洲高級餐旅職業學校,　[702]臺南市南區大成路一段5號,　06-2640175,　http://www.asvs.tn.edu.tw\t\n",
            "臺南市私立慈幼高級工商職業學校,　[701]臺南市東區裕農路801號,　06-2362106,　http://www.ssvs.tn.edu.tw\t\n",
            "國立旗山高級農工職業學校,　[842]高雄市旗山區旗甲路一段195號,　07-6612501,　http://www.csvs.khc.edu.tw\t\n",
            "國立岡山高級農工職業學校,　[82049]高雄市岡山區壽天里岡山路533號,　07-6217129,　http://www.ksvs.khc.edu.tw\t\n",
            "國立鳳山高級商工職業學校,　[83052]高雄市鳳山區文衡路51號,　07-7462602,　http://www.fsvs.ks.edu.tw\t\n",
            "中山學校財團法人高雄市中山高級工商職業學校,　[831]高雄市大寮區會社里正氣路79號,　07-782-7311、07-781-5311,　http://www2.csic.khc.edu.tw/PPP/index.asp\t\n",
            "高雄市私立旗美高級商工職業學校,　[843]高雄市美濃區中興路二段275號,　07-6812152,　http://cm.cmvsedu.tw/\t\n",
            "高雄市私立高英高級工商職業學校,　[831]高雄市大寮區鳳林三路19巷44號,　07-7832991,　http://www.kyicvs.khc.edu.tw/\t\n",
            "華德學校財團法人高雄市華德高級工業家事職業學校,　[852]高雄市茄萣區濱海路四段66號,　07-6921212,　http://www.hdvs.kh.edu.tw\t\n",
            "私立高苑高級工商職業學校,　[82544]高雄市橋頭區東林里芋寮路一號,　07-6111101~7,　http://www.kyvs.ks.edu.tw\t\n",
            "國立內埔高級農工職業學校,　[912]屏東縣內埔鄉水門村成功路83號,　08-7991103,　http://www.npvs.ptc.edu.tw\t\n",
            "國立屏東高級工業職業學校,　[900]屏東縣屏東市建國路25號,　08-7523781,　http://www.ptivs.ptc.edu.tw\t\n",
            "國立佳冬高級農業職業學校,　[931]屏東縣佳冬鄉佳冬村佳農街67號,　08-8662726,　https://www.ctvs.ptc.edu.tw\t\n",
            "國立東港高級海事水產職業學校,　[928]屏東縣東港鎮豐漁街66號,　08-8333131,　http://www.tkms.ptc.edu.tw\t\n",
            "國立恆春高級工商職業學校,　[946]屏東縣恆春鎮恆南路38號,　08-8892010,　http://www.hcvs.ptc.edu.tw\t\n",
            "屏東縣私立民生高級家事商業職業學校,　[900005]屏東縣屏東市民生東路12號,　08-7223029,　https://www.msvs.ptc.edu.tw\t\n",
            "屏東縣私立華洲高級工業家事職業學校,　[900]屏東縣屏東市歸心里歸仁路63巷99號,　08-7521516～219,　http://www.hcivs.ptc.edu.tw\t\n",
            "屏東縣私立日新高級工商職業學校,　[920]屏東縣潮州鎮太平路224號,　08-7882343,　http://www.jhvs.ptc.edu.tw\t\n",
            "國立花蓮高級農業職業學校,　[970]花蓮縣花蓮市建國路161號,　03-8312301,　http://www.hla.hlc.edu.tw\t\n",
            "國立花蓮高級工業職業學校,　[97058]花蓮縣花蓮市府前路27號,　03-8226108,　http://www.hlis.hlc.edu.tw\t\n",
            "國立花蓮高級商業職業學校,　[970]花蓮縣花蓮市中山路418號,　03-8334646,　http://www.hlbh.hlc.edu.tw\t\n",
            "國立光復高級商工職業學校,　[976]花蓮縣光復鄉林森路100號,　03-8700245,　http://www.kfcivs.hlc.edu.tw\t\n",
            "花蓮縣上騰高級工商職業學校,　[973]花蓮縣吉安鄉吉安村吉興四街101號,　038-538565,　http://www.chvs.hlc.edu.tw/sundance/\t\n",
            "國立臺東專科學校附設高職部,　[950]臺東縣臺東市正氣北路889號,　089-226389,　http://www.ntc.edu.tw\t\n",
            "國立關山高級工商職業學校,　[956]臺東縣關山鎮民權路58號,　089-811006,　https://www.ksvs.ttct.edu.tw/\t\n",
            "國立臺東高級商業職業學校,　[950]臺東縣臺東市正氣路440號,　089-350575,　http://www.tscvs.ttct.edu.tw\t\n",
            "國立成功商業水產職業學校,　[961]臺東縣成功鎮太平路52號,　089-850011,　http://www.ckvs.ttct.edu.tw\t\n",
            "臺東縣私立公東高級工業職業學校,　[950]臺東縣臺東市中興路一段560號,　089-222877,　http://web1.ktus.ttct.edu.tw/bin/home.php\t\n",
            "國立澎湖高級海事水產職業學校,　[88042]澎湖縣馬公市中興里民族路63號,　06-9261101,　http://www.phmhs.phc.edu.tw\t\n",
            "國立苗栗高級農工職業學校,　[36057]苗栗縣苗栗市經國路二段491號,　037-329281,　http://www.mlaivs.mlc.edu.tw\t\n",
            "國立苗栗高級商業職業學校,　[36047]苗栗縣苗栗市電台街7號,　037-356001,　http://www.mlvs.mlc.edu.tw\t\n",
            "苗栗縣私立中興高級商工職業學校,　[350]苗栗縣竹南鎮大營路211號,　037-467360,　http://www.csvs.mlc.edu.tw\t\n",
            "苗栗縣私立育民高級工業家事職業學校,　[360]苗栗縣苗栗市水源里育民街37號,　037-353888,　http://www.ymvs.mlc.edu.tw\t\n",
            "苗栗縣私立賢德高級工商職業學校,　[357]苗栗縣通霄鎮五北里74之1號,　037-751011,　http://www.sdvs.mlc.edu.tw\t\n",
            "苗栗縣私立龍德家事商業職業學校,　[358]苗栗縣苑裡鎮房裡里南房75之1號,　037-851277,　http://www.ldvs.mlc.edu.tw\t\n",
            "臺中市立豐原商業高級中等學校,　[420]台中市豐原區圓環南路50號,　04-25283556,　http://www.fyvs.tc.edu.tw\t\n",
            "臺中市立大甲工業高級中等學校,　[437]臺中市大甲區頂店里開元路71號,　04-26874132,　http://www.tcvs.tc.edu.tw/\t\n",
            "臺中市立東勢工業高級中等學校,　[423]臺中市東勢區東關路6段1328號,　04-25872136,　http://www.tsvs.tc.edu.tw/\t\n",
            "臺中市立沙鹿工業高級中等學校,　433臺中市沙鹿區臺灣大道七段823號,　04-26621795,　http://www.slvs.tc.edu.tw\t\n",
            "臺中市立霧峰農業工業高級中等學校,　[413]臺中市霧峰區中正路1222號,　04-23303118,　http://www.wufai.edu.tw\t\n",
            "國立彰化師範大學附屬高級工業職業學校,　[500]彰化縣彰化市和調里工校街1號,　04-7252541,　http://www.sivs.chc.edu.tw\t\n",
            "國立永靖高級工業職業學校,　[512]彰化縣永靖鄉永北村永坡路101號,　04-8221810,　https://www.yjvs.chc.edu.tw/home\t\n",
            "國立二林高級工商職業學校,　[526]彰化縣二林鎮豐田里斗苑路四段500號,　04-8962132,　http://www.elvs.chc.edu.tw\t\n",
            "國立秀水高級工業職業學校,　[504]彰化縣秀水鄉福安村中山路364號,　04-7697021,　http://www.ssivs.chc.edu.tw\t\n",
            "國立彰化高級商業職業學校,　[500]彰化縣彰化市華陽里南郭路一段326號,　04-7262623,　http://www.chsc.tw/\t\n",
            "國立員林高級農工職業學校,　[510]彰化縣員林鎮員水路二段313號,　04-8360105,　http://www.ylvs.chc.edu.tw\t\n",
            "國立員林崇實高級工業職業學校,　[510]彰化縣員林市育英路103號,　04-8347106,　http://www.csvs.chc.edu.tw\t\n",
            "國立員林高級家事商業職業學校,　[510]彰化縣員林市中正路56號,　04-8320260,　http://www.ylhcvs.chc.edu.tw\t\n",
            "國立北斗高級家事商業職業學校,　[521]彰化縣北斗鎮學府路50號,　04-8882224,　http://www.pthc.chc.edu.tw\t\n",
            "彰化縣私立大慶高級商工職業學校,　[510]彰化縣員林市山腳路二段206號,　04-8311005,　http://www.dcvs.chc.edu.tw\t\n",
            "彰化縣私立達德高級商工職業學校,　[520]彰化縣田中鎮中南路二段277號,　04-8753929,　http://www.tdvs.chc.edu.tw\t\n",
            "國立仁愛高級農業職業學校,　[546]南投縣仁愛鄉大同村山農巷27號,　049-2802619,　http://www.ravs.ntct.edu.tw\t\n",
            "國立埔里高級工業職業學校,　[545]南投縣埔里鎮中山路一段435號,　049-2982225,　https://www.plvs.ntct.edu.tw\t\n",
            "國立南投高級商業職業學校,　[540]南投縣南投市三興里彰南路一段993號,　049-2222269#2207~2209,　http://www.pntcv.ntct.edu.tw\t\n",
            "國立草屯高級商工職業學校,　[542]南投縣草屯鎮新庄里芬草路二段736號,　049-2362082,　http://www.ttvs.ntct.edu.tw\t\n",
            "國立水里高級商工職業學校,　[553]南投縣水里鄉南湖路2號,　049-2870666,　http://www.slvs.ntct.edu.tw/\t\n",
            "同德學校財團法人南投縣同德高級中等學校,　[542]南投縣草屯鎮中正路培英巷8號,　049-2553109,　http://www.tdvs.ntct.edu.tw\t\n",
            "國立虎尾高級農工職業學校,　[63244]雲林縣虎尾鎮公安里博愛路65號,　05-6322767,　http://www.hwaivs.ylc.edu.tw\t\n",
            "國立西螺高級農工職業學校,　[648]雲林縣西螺鎮大同路4號,　05-5862024,　http://www.hlvs.ylc.edu.tw\t\n",
            "國立斗六高級家事商業職業學校,　[640]雲林縣斗六市成功路120號,　05-5322147,　http://www.tlhc.ylc.edu.tw\t\n",
            "國立北港高級農工職業學校,　[651]雲林縣北港鎮太平路80號,　05-7832246,　http://www.pkvs.ylc.edu.tw/\t\n",
            "國立土庫高級商工職業學校,　[633]雲林縣土庫鎮中央路2號,　05-6622538,　http://www.tkvs.ylc.edu.tw\t\n",
            "雲林縣私立大成高級商工職業學校,　[632]雲林縣虎尾鎮成平街21號,　05-6322534轉22,　http://www.tcvhs.ylc.edu.tw\t\n",
            "雲林縣私立大德工業商業職業學校,　[630]雲林縣斗南鎮大同路400號,　05-5970977,　http://www.ddvs.ylc.edu.tw/\t\n",
            "高雄市私立中華藝術學校,　[804]高雄市鼓山區美術館路89號,　07-5549696,　http://www.charts.kh.edu.tw\t\n",
            "高雄市立海青高級工商職業學校,　[813]高雄市左營區左營大路1號,　07-5819155,　http://www.hcvs.kh.edu.tw\t\n",
            "高雄市立三民高級家事商業職業學校,　[813]高雄市左營區裕誠路1102號,　07-5525887,　http://www.smvhs.kh.edu.tw\t\n",
            "高雄市私立樹德高級家事商業職業學校,　[807]高雄市三民區建興路116號,　07-3848622,　http://www.shute.kh.edu.tw\t\n",
            "高雄市立高雄高級工業職業學校,　[80778]高雄市三民區建工路419號,　07-3815366,　http://www.ksvs.kh.edu.tw\t\n",
            "高雄市立高雄高級商業職業學校,　[80045]高雄市新興區五福二路3號,　07-2269975,　http://www.ksvcs.kh.edu.tw\t\n",
            "國際學校財團法人高雄市國際商工高級中等學校,　[802]高雄市苓雅區三多二路84號,　07-7228665#251,　http://www.kcvs.kh.edu.tw\t\n",
            "高雄市私立三信高級家事商業職業學校,　[802]高雄市苓雅區三多一路186號,　07-7517171,　http://www.sanhsin.edu.tw\t\n",
            "高雄市立中正高級工業職業學校,　[806]高雄市前鎮區光華二路80號,　07-7232301,　http://www.ccvs.kh.edu.tw\t\n",
            "國立金門高級農工職業學校,　[891]金門縣金湖鎮新市里復興路1之11號,　082-333508,　http://www.kmvs.km.edu.tw/\t\n",
            "臺北市私立開平餐飲職業學校,　[106]台北市大安區復興南路2段148巷24號,　02-27556939,　http://www.kpvs.tp.edu.tw\t\n",
            "國立臺南特殊教育學校,　709 臺南市安南區長和路二段74號,　06-355-4591~3,　http://www.tnmr.tn.edu.tw/index.php\t\n",
            "臺中市立啟聰學校,　臺中市西屯區安和路1號,　04-23589577,　www.thdf.tc.edu.tw\t\n",
            "新北市立新北特殊教育學校,　[244]新北市林口區文化北路一段425號,　02-26006768,　http://210.60.207.4/default.asp\t\n",
            "臺北市立啟聰學校,　台北市大同區重慶北路三段320號,　02-25924446,　http://www.tmd.tp.edu.tw/tmd/\t\n",
            "臺北市立文山特殊教育學校,　[11665]臺北市文山區 秀明路一段 169 號,　02-86615183,　http://www.wsses.tp.edu.tw/\t\n",
            "臺北市立臺北特殊教育學校,　[11153]臺北市士林區忠誠路二段207巷3號,　02-28749117,　http://www.tpmr.tp.edu.tw/\t\n",
            "臺北市立啟明學校,　臺北市士林區忠誠路二段207巷1號,　02-2874-0670,　http://www.tmsb.tp.edu.tw/nss/p/index\t\n",
            "國立桃園啟智學校,　[33062]桃園市桃園區德壽街 10 號,　03-3647099,　http://www.tsad.tyc.edu.tw/\t\n",
            "私立惠明學校,　[428]台中市大雅區雅潭路四段336號,　04-25661024,　http://www.hmsh.tc.edu.tw/\t\n",
            "臺中市立臺中特殊教育學校,　[40861]臺中市南屯區公益路2段296號,　04-22582289,　www.tcspe.tc.edu.tw\t\n",
            "高雄市立仁武特殊教育學校,　[814]高雄市仁武區八卦里澄觀路1389號,　07-3749788,　http://w3.ses.ks.edu.tw/\t\n",
            "高雄市立楠梓特殊學校,　高雄市楠梓區德民路211號,　07-3642007,　http://www.nzsmr.kh.edu.tw\t\n",
            "高雄市立高雄特殊教育學校,　[802]高雄市苓雅區憲政路233巷2號,　07-223-5940,　http://www.kmsmr.kh.edu.tw/\t\n",
            "高雄市立成功特殊教育學校,　高雄市前鎮區80654復興三路3號,　07-3304624,　http://www.ckmr.kh.edu.tw/\t\n",
            "國立宜蘭特殊教育學校,　[26843]宜蘭縣五結鄉國民中路22-20號,　03-950-9788,　http://www.isse.ilc.edu.tw/\t\n",
            "國立新竹特殊教育學校,　[302]新竹縣竹北市光明六路東二段201號,　03-6676639,　http://www.nhs.hcc.edu.tw/\t\n",
            "國立苗栗特殊教育學校,　苗栗縣苗栗市嘉新里經國路四段825號,　037-266498,　www.mlses.mlc.edu.tw\t\n",
            "國立南投特殊教育學校,　[54046]南投縣南投市中興新村仁德路200號,　049-2390773,　http://www.ntss.ntct.edu.tw/index.php\t\n",
            "國立雲林特殊教育學校,　[63049]雲林縣斗南鎮新崙里新崙路100號,　05-5969241,　http://www.nyses.ylc.edu.tw/\t\n",
            "國立屏東特殊教育學校,　屏東縣潮州鎮光春路311號,　08-7805510,　http://web.pses.ptc.edu.tw/default1.asp\t\n",
            "國立臺東大學附屬特殊教育學校,　臺東市中興路三段401巷170號,　089-229912~4,　http://www.nttusps.nttu.edu.tw/\t\n",
            "國立花蓮特殊教育學校,　[973]花蓮縣吉安鄉中山路二段2號,　03-8544225,　http://www.hlmrs.hlc.edu.tw/default.asp\t\n",
            "國立基隆特殊教育學校,　[20650]基隆市七堵區堵南街20號,　02-2452-6332,　http://www.klses.kl.edu.tw/\t\n",
            "國立嘉義特殊教育學校,　[600]嘉義市世賢路二段123號,　05-2858549,　https://www.cymrs.cy.edu.tw/\t\n",
            "國立高雄餐旅大學附屬餐旅高級中等學校,　高雄市小港區松和路40號,　07-8060705,　http://nkhhs.kmhjh.kh.edu.tw/\t\n",
            "新北市立樟樹國際實創高級中等學校,　新北市汐止區樟樹二路135號,　02-26430686,　http://www.ctjhs.ntpc.edu.tw/\t\n",
            "臺中市立神岡工業高級中等學校,　臺中市神岡區中山路627號,　04-25623421,　https://sgihs.tc.edu.tw/\t\n"
          ],
          "name": "stdout"
        }
      ]
    },
    {
      "cell_type": "markdown",
      "metadata": {
        "id": "LPXBzSOMHO5l"
      },
      "source": [
        "#插畫img爬蟲"
      ]
    },
    {
      "cell_type": "code",
      "metadata": {
        "colab": {
          "base_uri": "https://localhost:8080/"
        },
        "id": "TgABlWrmGO-X",
        "outputId": "b39ca432-04bc-4939-ed76-f407daaf168f"
      },
      "source": [
        "import requests as req\n",
        "from bs4 import BeautifulSoup\n",
        "\n",
        "for i in range(1):\n",
        "    s_url = 'https://www.irasutoya.com/2021/01/blog-post_64.html' #+ str(i)\n",
        "    html = requests.get(s_url)\n",
        "    sp = BeautifulSoup(html.text, 'html.parser')\n",
        "\n",
        "    datas = sp.find('div', class_='separator').find_all('img')\n",
        "    for data in datas:\n",
        "        print(data['alt'], end=' ')\n",
        "        print(data.get('src'))"
      ],
      "execution_count": 171,
      "outputs": [
        {
          "output_type": "stream",
          "text": [
            "モルモットのイラスト（白・茶） https://1.bp.blogspot.com/-yWLb8tx9t1k/YAo8iibYAYI/AAAAAAABdSs/thfQn1lEbScHxGKbyQHCsvSlcoKF9e3pQCNcBGAsYHQ/s300/animal_marmot_white_brown.png\n",
            "モルモットのイラスト（白・黒） https://1.bp.blogspot.com/-liRpofZBLqw/YAo8iWTWw3I/AAAAAAABdSo/2GYSvyXDeZk7DSTEHaWc3gsL2Xp5d9miwCNcBGAsYHQ/s300/animal_marmot_white_black.png\n",
            "モルモットのイラスト（白） https://1.bp.blogspot.com/-lp9kK9ctJgE/YAo8iUImNDI/AAAAAAABdSk/NRL3cXxVUWwpFwRghF7O8MI6ITS54KVgACNcBGAsYHQ/s300/animal_marmot_white.png\n",
            "モルモットのイラスト（三毛） https://1.bp.blogspot.com/-ZSNbc8tNIg4/YAo8hm0cAlI/AAAAAAABdSg/kIIXliuswJcqa5FEYCNeX7fEqLa3WdE3ACNcBGAsYHQ/s300/animal_marmot_mike.png\n",
            "モルモットのイラスト（茶） https://1.bp.blogspot.com/-1s5mU8my4KY/YAo8hpiMUBI/AAAAAAABdSY/7MLeTYlkohUhUAzeHv5CbGSahycdC9FPwCNcBGAsYHQ/s300/animal_marmot_brown.png\n",
            "モルモットのイラスト（黒） https://1.bp.blogspot.com/-35g1WmD5B1U/YAo8hpY0mpI/AAAAAAABdSc/vmreXdBYAtYBkFi43o_YnMrGrp1ObUBLACNcBGAsYHQ/s300/animal_marmot_black.png\n"
          ],
          "name": "stdout"
        }
      ]
    },
    {
      "cell_type": "code",
      "metadata": {
        "colab": {
          "base_uri": "https://localhost:8080/"
        },
        "id": "-t-1SMLtK2Cm",
        "outputId": "c2b02e9e-9dd6-4405-8c9c-dd14d73d9e57"
      },
      "source": [
        "#設檔名\n",
        "sp = BeautifulSoup(html.text, 'html.parser')\n",
        "\n",
        "datas = sp.find('div', class_='separator').find_all('img')\n",
        "for data in datas:\n",
        "    print(data.get('src').split('/')[-1])"
      ],
      "execution_count": 172,
      "outputs": [
        {
          "output_type": "stream",
          "text": [
            "animal_marmot_white_brown.png\n",
            "animal_marmot_white_black.png\n",
            "animal_marmot_white.png\n",
            "animal_marmot_mike.png\n",
            "animal_marmot_brown.png\n",
            "animal_marmot_black.png\n"
          ],
          "name": "stdout"
        }
      ]
    },
    {
      "cell_type": "markdown",
      "metadata": {
        "id": "Ioj1cDKjKYSF"
      },
      "source": [
        "下載至本機\n",
        "Google Drive"
      ]
    },
    {
      "cell_type": "code",
      "metadata": {
        "colab": {
          "base_uri": "https://localhost:8080/"
        },
        "id": "3qju000NMGEF",
        "outputId": "096a281a-7970-4de0-e93b-d028f3762bf9"
      },
      "source": [
        "%cd /content/drive/MyDrive/animal"
      ],
      "execution_count": 174,
      "outputs": [
        {
          "output_type": "stream",
          "text": [
            "/content/drive/MyDrive/animal\n"
          ],
          "name": "stdout"
        }
      ]
    },
    {
      "cell_type": "code",
      "metadata": {
        "colab": {
          "base_uri": "https://localhost:8080/"
        },
        "id": "LGnQPLQVMWoH",
        "outputId": "7dcd729b-f9cf-4a81-82f7-109d65502918"
      },
      "source": [
        "!pwd"
      ],
      "execution_count": 175,
      "outputs": [
        {
          "output_type": "stream",
          "text": [
            "/content/drive/MyDrive/animal\n"
          ],
          "name": "stdout"
        }
      ]
    },
    {
      "cell_type": "code",
      "metadata": {
        "id": "odCUZjhiKXgd"
      },
      "source": [
        "sp = BeautifulSoup(html.text, 'html.parser')\n",
        "\n",
        "datas = sp.find('div', class_='separator').find_all('img')\n",
        "for data in datas:\n",
        "    imgfile = requests.get(data.get('src'))\n",
        "    imgname = data.get('src').split('/')[-1]\n",
        "    with open(imgname, 'wb') as f:\n",
        "        f.write(imgfile.content)"
      ],
      "execution_count": 176,
      "outputs": []
    },
    {
      "cell_type": "markdown",
      "metadata": {
        "id": "Y-vdvvR0NIpl"
      },
      "source": [
        "#Covid-19 資料(非同步載入)Ajax爬蟲"
      ]
    },
    {
      "cell_type": "code",
      "metadata": {
        "colab": {
          "base_uri": "https://localhost:8080/",
          "height": 52
        },
        "id": "XsgaLWFwNNKO",
        "outputId": "ce63f83a-7968-4fc0-c876-ab7269a82482"
      },
      "source": [
        "import requests\n",
        "\n",
        "url='https://covid19dashboard.cdc.gov.tw/dash3'\n",
        "html = requests.get(url)\n",
        "html.text"
      ],
      "execution_count": 185,
      "outputs": [
        {
          "output_type": "execute_result",
          "data": {
            "application/vnd.google.colaboratory.intrinsic+json": {
              "type": "string"
            },
            "text/plain": [
              "'{\"0\":{\"確診\":\"15,880\",\"死亡\":821,\"送驗\":\"2,382,988\",\"排除\":\"2,365,884\",\"昨日確診\":10,\"昨日排除\":\"22,216\",\"昨日送驗\":\"22,216\"}}'"
            ]
          },
          "metadata": {
            "tags": []
          },
          "execution_count": 185
        }
      ]
    },
    {
      "cell_type": "code",
      "metadata": {
        "colab": {
          "base_uri": "https://localhost:8080/"
        },
        "id": "meba9yMtPSvw",
        "outputId": "0a7ea253-a126-435a-f020-a79a6cc5050c"
      },
      "source": [
        "import json\n",
        "datas = json.loads(html.text)\n",
        "for a in datas['0']:\n",
        "    print(a, end=' ')\n",
        "    print(datas['0'][a])"
      ],
      "execution_count": 196,
      "outputs": [
        {
          "output_type": "stream",
          "text": [
            "確診 15,880\n",
            "死亡 821\n",
            "送驗 2,382,988\n",
            "排除 2,365,884\n",
            "昨日確診 10\n",
            "昨日排除 22,216\n",
            "昨日送驗 22,216\n"
          ],
          "name": "stdout"
        }
      ]
    }
  ]
}